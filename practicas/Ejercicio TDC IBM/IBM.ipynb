{
 "cells": [
  {
   "cell_type": "markdown",
   "metadata": {},
   "source": [
    "## Dependencias "
   ]
  },
  {
   "cell_type": "code",
   "execution_count": 1,
   "metadata": {},
   "outputs": [],
   "source": [
    "import numpy as np\n",
    "import pandas as pd \n",
    "\n",
    "from sqlalchemy import create_engine\n",
    "from sqlalchemy.types import VARCHAR,CHAR,INTEGER,BIGINT,BOOLEAN,DATE,DATETIME,FLOAT\n",
    "\n",
    "import json\n",
    "pd.set_option('display.max_columns',None)"
   ]
  },
  {
   "cell_type": "markdown",
   "metadata": {},
   "source": [
    "## Lectura de datos "
   ]
  },
  {
   "cell_type": "code",
   "execution_count": 2,
   "metadata": {},
   "outputs": [],
   "source": [
    "ruta = '/media/jose/090f6b94-de30-4aaf-9f8a-4e18b120d7f6/bd/02.  Para Ingeniería/cc_txn/credit_card_transactions-ibm_v2.csv'"
   ]
  },
  {
   "cell_type": "code",
   "execution_count": 3,
   "metadata": {},
   "outputs": [
    {
     "data": {
      "text/plain": [
       "(24386900, 15)"
      ]
     },
     "execution_count": 3,
     "metadata": {},
     "output_type": "execute_result"
    }
   ],
   "source": [
    "data = pd.read_csv(ruta,dtype=str)\n",
    "data.shape"
   ]
  },
  {
   "cell_type": "code",
   "execution_count": 4,
   "metadata": {},
   "outputs": [
    {
     "data": {
      "text/html": [
       "<div>\n",
       "<style scoped>\n",
       "    .dataframe tbody tr th:only-of-type {\n",
       "        vertical-align: middle;\n",
       "    }\n",
       "\n",
       "    .dataframe tbody tr th {\n",
       "        vertical-align: top;\n",
       "    }\n",
       "\n",
       "    .dataframe thead th {\n",
       "        text-align: right;\n",
       "    }\n",
       "</style>\n",
       "<table border=\"1\" class=\"dataframe\">\n",
       "  <thead>\n",
       "    <tr style=\"text-align: right;\">\n",
       "      <th></th>\n",
       "      <th>User</th>\n",
       "      <th>Card</th>\n",
       "      <th>Year</th>\n",
       "      <th>Month</th>\n",
       "      <th>Day</th>\n",
       "      <th>Time</th>\n",
       "      <th>Amount</th>\n",
       "      <th>Use Chip</th>\n",
       "      <th>Merchant Name</th>\n",
       "      <th>Merchant City</th>\n",
       "      <th>Merchant State</th>\n",
       "      <th>Zip</th>\n",
       "      <th>MCC</th>\n",
       "      <th>Errors?</th>\n",
       "      <th>Is Fraud?</th>\n",
       "    </tr>\n",
       "  </thead>\n",
       "  <tbody>\n",
       "    <tr>\n",
       "      <th>0</th>\n",
       "      <td>0</td>\n",
       "      <td>0</td>\n",
       "      <td>2002</td>\n",
       "      <td>9</td>\n",
       "      <td>1</td>\n",
       "      <td>06:21</td>\n",
       "      <td>$134.09</td>\n",
       "      <td>Swipe Transaction</td>\n",
       "      <td>3527213246127876953</td>\n",
       "      <td>La Verne</td>\n",
       "      <td>CA</td>\n",
       "      <td>91750.0</td>\n",
       "      <td>5300</td>\n",
       "      <td>NaN</td>\n",
       "      <td>No</td>\n",
       "    </tr>\n",
       "    <tr>\n",
       "      <th>1</th>\n",
       "      <td>0</td>\n",
       "      <td>0</td>\n",
       "      <td>2002</td>\n",
       "      <td>9</td>\n",
       "      <td>1</td>\n",
       "      <td>06:42</td>\n",
       "      <td>$38.48</td>\n",
       "      <td>Swipe Transaction</td>\n",
       "      <td>-727612092139916043</td>\n",
       "      <td>Monterey Park</td>\n",
       "      <td>CA</td>\n",
       "      <td>91754.0</td>\n",
       "      <td>5411</td>\n",
       "      <td>NaN</td>\n",
       "      <td>No</td>\n",
       "    </tr>\n",
       "  </tbody>\n",
       "</table>\n",
       "</div>"
      ],
      "text/plain": [
       "  User Card  Year Month Day   Time   Amount           Use Chip  \\\n",
       "0    0    0  2002     9   1  06:21  $134.09  Swipe Transaction   \n",
       "1    0    0  2002     9   1  06:42   $38.48  Swipe Transaction   \n",
       "\n",
       "         Merchant Name  Merchant City Merchant State      Zip   MCC Errors?  \\\n",
       "0  3527213246127876953       La Verne             CA  91750.0  5300     NaN   \n",
       "1  -727612092139916043  Monterey Park             CA  91754.0  5411     NaN   \n",
       "\n",
       "  Is Fraud?  \n",
       "0        No  \n",
       "1        No  "
      ]
     },
     "execution_count": 4,
     "metadata": {},
     "output_type": "execute_result"
    }
   ],
   "source": [
    "data.head(2)"
   ]
  },
  {
   "cell_type": "code",
   "execution_count": 85,
   "metadata": {},
   "outputs": [],
   "source": [
    "data.insert(0,'id',data.index+1)"
   ]
  },
  {
   "cell_type": "markdown",
   "metadata": {},
   "source": [
    "## Conexión a BD"
   ]
  },
  {
   "cell_type": "code",
   "execution_count": 4,
   "metadata": {},
   "outputs": [],
   "source": [
    "creds = json.load(open('../../creds/mysql.json','r'))"
   ]
  },
  {
   "cell_type": "code",
   "execution_count": 5,
   "metadata": {},
   "outputs": [],
   "source": [
    "cnx = create_engine(f\"mysql+pymysql://{creds['u']}:{creds['p']}@{creds['h']}/{creds['d']}\").connect()"
   ]
  },
  {
   "cell_type": "markdown",
   "metadata": {},
   "source": [
    "## Entidades"
   ]
  },
  {
   "cell_type": "markdown",
   "metadata": {},
   "source": [
    "### Comercio"
   ]
  },
  {
   "cell_type": "code",
   "execution_count": 6,
   "metadata": {},
   "outputs": [
    {
     "data": {
      "text/html": [
       "<div>\n",
       "<style scoped>\n",
       "    .dataframe tbody tr th:only-of-type {\n",
       "        vertical-align: middle;\n",
       "    }\n",
       "\n",
       "    .dataframe tbody tr th {\n",
       "        vertical-align: top;\n",
       "    }\n",
       "\n",
       "    .dataframe thead th {\n",
       "        text-align: right;\n",
       "    }\n",
       "</style>\n",
       "<table border=\"1\" class=\"dataframe\">\n",
       "  <thead>\n",
       "    <tr style=\"text-align: right;\">\n",
       "      <th></th>\n",
       "      <th>id</th>\n",
       "      <th>merchant_name</th>\n",
       "    </tr>\n",
       "  </thead>\n",
       "  <tbody>\n",
       "    <tr>\n",
       "      <th>0</th>\n",
       "      <td>1</td>\n",
       "      <td>3527213246127876953</td>\n",
       "    </tr>\n",
       "    <tr>\n",
       "      <th>1</th>\n",
       "      <td>2</td>\n",
       "      <td>-727612092139916043</td>\n",
       "    </tr>\n",
       "    <tr>\n",
       "      <th>2</th>\n",
       "      <td>3</td>\n",
       "      <td>3414527459579106770</td>\n",
       "    </tr>\n",
       "    <tr>\n",
       "      <th>3</th>\n",
       "      <td>4</td>\n",
       "      <td>5817218446178736267</td>\n",
       "    </tr>\n",
       "    <tr>\n",
       "      <th>4</th>\n",
       "      <td>5</td>\n",
       "      <td>-7146670748125200898</td>\n",
       "    </tr>\n",
       "  </tbody>\n",
       "</table>\n",
       "</div>"
      ],
      "text/plain": [
       "   id         merchant_name\n",
       "0   1   3527213246127876953\n",
       "1   2   -727612092139916043\n",
       "2   3   3414527459579106770\n",
       "3   4   5817218446178736267\n",
       "4   5  -7146670748125200898"
      ]
     },
     "execution_count": 6,
     "metadata": {},
     "output_type": "execute_result"
    }
   ],
   "source": [
    "entComercio = data[['Merchant Name']].drop_duplicates().reset_index(drop=True)\n",
    "entComercio.insert(0,'id',entComercio.index+1)\n",
    "entComercio.columns = ['id','merchant_name']\n",
    "entComercio['merchant_name'] = entComercio['merchant_name'].map(str)\n",
    "entComercio.head()"
   ]
  },
  {
   "cell_type": "code",
   "execution_count": 7,
   "metadata": {},
   "outputs": [
    {
     "data": {
      "text/plain": [
       "20"
      ]
     },
     "execution_count": 7,
     "metadata": {},
     "output_type": "execute_result"
    }
   ],
   "source": [
    "entComercio['merchant_name'].map(len).max()"
   ]
  },
  {
   "cell_type": "code",
   "execution_count": 8,
   "metadata": {},
   "outputs": [
    {
     "data": {
      "text/plain": [
       "100343"
      ]
     },
     "execution_count": 8,
     "metadata": {},
     "output_type": "execute_result"
    }
   ],
   "source": [
    "dtypes = [INTEGER,VARCHAR(20)]\n",
    "entComercio.to_sql(name='tbl_merchant',\n",
    "               index=False,\n",
    "               con=cnx,\n",
    "               if_exists='replace',\n",
    "               chunksize=5000,\n",
    "               dtype=dict(zip(entComercio.columns,dtypes)))"
   ]
  },
  {
   "cell_type": "markdown",
   "metadata": {},
   "source": [
    "### Territorio"
   ]
  },
  {
   "cell_type": "code",
   "execution_count": 9,
   "metadata": {},
   "outputs": [],
   "source": [
    "entTerritorio = pd.read_clipboard()"
   ]
  },
  {
   "cell_type": "code",
   "execution_count": 11,
   "metadata": {},
   "outputs": [
    {
     "data": {
      "text/html": [
       "<div>\n",
       "<style scoped>\n",
       "    .dataframe tbody tr th:only-of-type {\n",
       "        vertical-align: middle;\n",
       "    }\n",
       "\n",
       "    .dataframe tbody tr th {\n",
       "        vertical-align: top;\n",
       "    }\n",
       "\n",
       "    .dataframe thead th {\n",
       "        text-align: right;\n",
       "    }\n",
       "</style>\n",
       "<table border=\"1\" class=\"dataframe\">\n",
       "  <thead>\n",
       "    <tr style=\"text-align: right;\">\n",
       "      <th></th>\n",
       "      <th>id</th>\n",
       "      <th>territory_code</th>\n",
       "      <th>territory_name</th>\n",
       "    </tr>\n",
       "  </thead>\n",
       "  <tbody>\n",
       "    <tr>\n",
       "      <th>220</th>\n",
       "      <td>221</td>\n",
       "      <td>170</td>\n",
       "      <td>Paraguay</td>\n",
       "    </tr>\n",
       "    <tr>\n",
       "      <th>221</th>\n",
       "      <td>222</td>\n",
       "      <td>171</td>\n",
       "      <td>Kiribati</td>\n",
       "    </tr>\n",
       "    <tr>\n",
       "      <th>222</th>\n",
       "      <td>223</td>\n",
       "      <td>172</td>\n",
       "      <td>Botswana</td>\n",
       "    </tr>\n",
       "    <tr>\n",
       "      <th>223</th>\n",
       "      <td>224</td>\n",
       "      <td>173</td>\n",
       "      <td>Online</td>\n",
       "    </tr>\n",
       "    <tr>\n",
       "      <th>224</th>\n",
       "      <td>225</td>\n",
       "      <td>AA</td>\n",
       "      <td>Diplomatic Post Office</td>\n",
       "    </tr>\n",
       "  </tbody>\n",
       "</table>\n",
       "</div>"
      ],
      "text/plain": [
       "      id territory_code          territory_name\n",
       "220  221            170                Paraguay\n",
       "221  222            171                Kiribati\n",
       "222  223            172                Botswana\n",
       "223  224            173                  Online\n",
       "224  225             AA  Diplomatic Post Office"
      ]
     },
     "execution_count": 11,
     "metadata": {},
     "output_type": "execute_result"
    }
   ],
   "source": [
    "entTerritorio.tail()"
   ]
  },
  {
   "cell_type": "code",
   "execution_count": 12,
   "metadata": {},
   "outputs": [
    {
     "data": {
      "text/plain": [
       "225"
      ]
     },
     "execution_count": 12,
     "metadata": {},
     "output_type": "execute_result"
    }
   ],
   "source": [
    "dtypes = [INTEGER,VARCHAR(3),VARCHAR(32)]\n",
    "entTerritorio.to_sql(name='tbl_territory',\n",
    "               index=False,\n",
    "               con=cnx,\n",
    "               if_exists='replace',\n",
    "               chunksize=5000,\n",
    "               dtype=dict(zip(entTerritorio.columns,dtypes)))"
   ]
  },
  {
   "cell_type": "markdown",
   "metadata": {},
   "source": [
    "### Ciudad"
   ]
  },
  {
   "cell_type": "code",
   "execution_count": 13,
   "metadata": {},
   "outputs": [],
   "source": [
    "data['Merchant State'] = np.where(data['Merchant City']=='ONLINE','Online',data['Merchant State'])"
   ]
  },
  {
   "cell_type": "code",
   "execution_count": 14,
   "metadata": {},
   "outputs": [],
   "source": [
    "entCiudad = data[['Merchant City','Merchant State']].drop_duplicates()"
   ]
  },
  {
   "cell_type": "code",
   "execution_count": 15,
   "metadata": {},
   "outputs": [],
   "source": [
    "entCiudad.columns = ['territory_city','territory_name']"
   ]
  },
  {
   "cell_type": "code",
   "execution_count": 16,
   "metadata": {},
   "outputs": [
    {
     "data": {
      "text/html": [
       "<div>\n",
       "<style scoped>\n",
       "    .dataframe tbody tr th:only-of-type {\n",
       "        vertical-align: middle;\n",
       "    }\n",
       "\n",
       "    .dataframe tbody tr th {\n",
       "        vertical-align: top;\n",
       "    }\n",
       "\n",
       "    .dataframe thead th {\n",
       "        text-align: right;\n",
       "    }\n",
       "</style>\n",
       "<table border=\"1\" class=\"dataframe\">\n",
       "  <thead>\n",
       "    <tr style=\"text-align: right;\">\n",
       "      <th></th>\n",
       "      <th>territory_city</th>\n",
       "      <th>territory_name_x</th>\n",
       "      <th>id_x</th>\n",
       "      <th>territory_code_x</th>\n",
       "      <th>id_y</th>\n",
       "      <th>territory_code_y</th>\n",
       "      <th>territory_name_y</th>\n",
       "    </tr>\n",
       "  </thead>\n",
       "  <tbody>\n",
       "    <tr>\n",
       "      <th>20324</th>\n",
       "      <td>Loysville</td>\n",
       "      <td>PA</td>\n",
       "      <td>NaN</td>\n",
       "      <td>NaN</td>\n",
       "      <td>7.0</td>\n",
       "      <td>PA</td>\n",
       "      <td>Pennsylvania</td>\n",
       "    </tr>\n",
       "    <tr>\n",
       "      <th>20325</th>\n",
       "      <td>Laurel Bloomery</td>\n",
       "      <td>TN</td>\n",
       "      <td>NaN</td>\n",
       "      <td>NaN</td>\n",
       "      <td>14.0</td>\n",
       "      <td>TN</td>\n",
       "      <td>Tennessee</td>\n",
       "    </tr>\n",
       "    <tr>\n",
       "      <th>20326</th>\n",
       "      <td>Alburgh</td>\n",
       "      <td>VT</td>\n",
       "      <td>NaN</td>\n",
       "      <td>NaN</td>\n",
       "      <td>48.0</td>\n",
       "      <td>VT</td>\n",
       "      <td>Vermont</td>\n",
       "    </tr>\n",
       "    <tr>\n",
       "      <th>20327</th>\n",
       "      <td>Buskirk</td>\n",
       "      <td>NY</td>\n",
       "      <td>NaN</td>\n",
       "      <td>NaN</td>\n",
       "      <td>4.0</td>\n",
       "      <td>NY</td>\n",
       "      <td>New York</td>\n",
       "    </tr>\n",
       "    <tr>\n",
       "      <th>20328</th>\n",
       "      <td>Mooers</td>\n",
       "      <td>NY</td>\n",
       "      <td>NaN</td>\n",
       "      <td>NaN</td>\n",
       "      <td>4.0</td>\n",
       "      <td>NY</td>\n",
       "      <td>New York</td>\n",
       "    </tr>\n",
       "  </tbody>\n",
       "</table>\n",
       "</div>"
      ],
      "text/plain": [
       "        territory_city territory_name_x id_x territory_code_x  id_y  \\\n",
       "20324        Loysville               PA  NaN              NaN   7.0   \n",
       "20325  Laurel Bloomery               TN  NaN              NaN  14.0   \n",
       "20326          Alburgh               VT  NaN              NaN  48.0   \n",
       "20327          Buskirk               NY  NaN              NaN   4.0   \n",
       "20328           Mooers               NY  NaN              NaN   4.0   \n",
       "\n",
       "      territory_code_y territory_name_y  \n",
       "20324               PA     Pennsylvania  \n",
       "20325               TN        Tennessee  \n",
       "20326               VT          Vermont  \n",
       "20327               NY         New York  \n",
       "20328               NY         New York  "
      ]
     },
     "execution_count": 16,
     "metadata": {},
     "output_type": "execute_result"
    }
   ],
   "source": [
    "aux = entCiudad.merge(entTerritorio,how='left',on=['territory_name'])\n",
    "aux['id'] =np.where(aux['id']<52,None,aux['id']) \n",
    "aux = aux.merge(entTerritorio,how='left',\n",
    "                left_on=['territory_name'],right_on=['territory_code'])\n",
    "aux.tail()\n"
   ]
  },
  {
   "cell_type": "code",
   "execution_count": 17,
   "metadata": {},
   "outputs": [],
   "source": [
    "aux['id_territory'] = (np.where(aux['id_y'].isnull(),aux['id_x'],aux['id_y'])).astype(int)"
   ]
  },
  {
   "cell_type": "code",
   "execution_count": 18,
   "metadata": {},
   "outputs": [],
   "source": [
    "aux = aux[['id_territory','territory_city']].dropna().reset_index(drop=True)\n",
    "aux.insert(0,'id',aux.index+1)"
   ]
  },
  {
   "cell_type": "code",
   "execution_count": 19,
   "metadata": {},
   "outputs": [
    {
     "data": {
      "text/plain": [
       "26"
      ]
     },
     "execution_count": 19,
     "metadata": {},
     "output_type": "execute_result"
    }
   ],
   "source": [
    "aux['territory_city'].map(len).max()"
   ]
  },
  {
   "cell_type": "code",
   "execution_count": 20,
   "metadata": {},
   "outputs": [
    {
     "data": {
      "text/plain": [
       "20328"
      ]
     },
     "execution_count": 20,
     "metadata": {},
     "output_type": "execute_result"
    }
   ],
   "source": [
    "dtypes = [INTEGER,INTEGER,VARCHAR(26)]\n",
    "aux.to_sql(name='tbl_city',\n",
    "               index=False,\n",
    "               con=cnx,\n",
    "               if_exists='replace',\n",
    "               chunksize=5000,\n",
    "               dtype=dict(zip(aux.columns,dtypes)))"
   ]
  },
  {
   "cell_type": "markdown",
   "metadata": {},
   "source": [
    "### Tipo de Transacción\n"
   ]
  },
  {
   "cell_type": "code",
   "execution_count": 21,
   "metadata": {},
   "outputs": [
    {
     "data": {
      "text/plain": [
       "18"
      ]
     },
     "execution_count": 21,
     "metadata": {},
     "output_type": "execute_result"
    }
   ],
   "source": [
    "entTipoTxn = data[['Use Chip']].drop_duplicates().reset_index(drop=True)\n",
    "entTipoTxn.insert(0,'id',entTipoTxn.index+1)\n",
    "entTipoTxn.columns = ['id','txn_type']\n",
    "entTipoTxn['txn_type'].map(len).max()"
   ]
  },
  {
   "cell_type": "code",
   "execution_count": 22,
   "metadata": {},
   "outputs": [
    {
     "data": {
      "text/plain": [
       "3"
      ]
     },
     "execution_count": 22,
     "metadata": {},
     "output_type": "execute_result"
    }
   ],
   "source": [
    "dtypes = [INTEGER,VARCHAR(18)]\n",
    "entTipoTxn.to_sql(name='tbl_txn_type',\n",
    "               index=False,\n",
    "               con=cnx,\n",
    "               if_exists='replace',\n",
    "               chunksize=5000,\n",
    "\n",
    "               dtype=dict(zip(entTipoTxn.columns,dtypes)))"
   ]
  },
  {
   "cell_type": "markdown",
   "metadata": {},
   "source": [
    "### Código Postal"
   ]
  },
  {
   "cell_type": "code",
   "execution_count": 184,
   "metadata": {},
   "outputs": [
    {
     "data": {
      "text/html": [
       "<div>\n",
       "<style scoped>\n",
       "    .dataframe tbody tr th:only-of-type {\n",
       "        vertical-align: middle;\n",
       "    }\n",
       "\n",
       "    .dataframe tbody tr th {\n",
       "        vertical-align: top;\n",
       "    }\n",
       "\n",
       "    .dataframe thead th {\n",
       "        text-align: right;\n",
       "    }\n",
       "</style>\n",
       "<table border=\"1\" class=\"dataframe\">\n",
       "  <thead>\n",
       "    <tr style=\"text-align: right;\">\n",
       "      <th></th>\n",
       "      <th>id</th>\n",
       "      <th>zip_code</th>\n",
       "      <th>id_city</th>\n",
       "    </tr>\n",
       "  </thead>\n",
       "  <tbody>\n",
       "    <tr>\n",
       "      <th>0</th>\n",
       "      <td>1</td>\n",
       "      <td>91750</td>\n",
       "      <td>1</td>\n",
       "    </tr>\n",
       "    <tr>\n",
       "      <th>1</th>\n",
       "      <td>2</td>\n",
       "      <td>91754</td>\n",
       "      <td>2</td>\n",
       "    </tr>\n",
       "    <tr>\n",
       "      <th>2</th>\n",
       "      <td>3</td>\n",
       "      <td>91755</td>\n",
       "      <td>2</td>\n",
       "    </tr>\n",
       "    <tr>\n",
       "      <th>3</th>\n",
       "      <td>4</td>\n",
       "      <td>91752</td>\n",
       "      <td>4</td>\n",
       "    </tr>\n",
       "    <tr>\n",
       "      <th>4</th>\n",
       "      <td>5</td>\n",
       "      <td>91765</td>\n",
       "      <td>5</td>\n",
       "    </tr>\n",
       "  </tbody>\n",
       "</table>\n",
       "</div>"
      ],
      "text/plain": [
       "   id zip_code id_city\n",
       "0   1    91750       1\n",
       "1   2    91754       2\n",
       "2   3    91755       2\n",
       "3   4    91752       4\n",
       "4   5    91765       5"
      ]
     },
     "execution_count": 184,
     "metadata": {},
     "output_type": "execute_result"
    }
   ],
   "source": [
    "entZip = data[['Merchant City','Merchant State','Zip']].drop_duplicates().dropna().reset_index(drop=True)\n",
    "entZip['Zip'] = entZip['Zip'].map(float).astype(int).map(lambda x: f'{x:05d}')\n",
    "entZip = entZip.merge(entTerritorio,how='inner',left_on=['Merchant State'],right_on=['territory_code'])\n",
    "entZip = entZip.merge(aux[['id','territory_city','id_territory']],how='inner',left_on=['Merchant City','id'],right_on=['territory_city','id_territory'])\n",
    "entZip = entZip[['Zip','id_y']]\n",
    "entZip.columns = ['zip_code','id_city']\n",
    "entZip.insert(0,'id',(entZip.index+1).astype(int))\n",
    "entZip.head()"
   ]
  },
  {
   "cell_type": "code",
   "execution_count": 185,
   "metadata": {},
   "outputs": [
    {
     "data": {
      "text/plain": [
       "27321"
      ]
     },
     "execution_count": 185,
     "metadata": {},
     "output_type": "execute_result"
    }
   ],
   "source": [
    "dtypes = [INTEGER,CHAR(5),INTEGER]\n",
    "entZip.to_sql(name='tbl_zip',\n",
    "               index=False,\n",
    "               con=cnx,\n",
    "               if_exists='replace',\n",
    "               chunksize=5000,\n",
    "\n",
    "               dtype=dict(zip(entZip.columns,dtypes)))"
   ]
  },
  {
   "cell_type": "markdown",
   "metadata": {},
   "source": [
    "### MCC - Merchant Category Code"
   ]
  },
  {
   "cell_type": "code",
   "execution_count": 55,
   "metadata": {},
   "outputs": [],
   "source": [
    "mcc = data[['MCC']].drop_duplicates().dropna().reset_index(drop=True).astype(int)"
   ]
  },
  {
   "cell_type": "code",
   "execution_count": 73,
   "metadata": {},
   "outputs": [
    {
     "data": {
      "text/html": [
       "<div>\n",
       "<style scoped>\n",
       "    .dataframe tbody tr th:only-of-type {\n",
       "        vertical-align: middle;\n",
       "    }\n",
       "\n",
       "    .dataframe tbody tr th {\n",
       "        vertical-align: top;\n",
       "    }\n",
       "\n",
       "    .dataframe thead th {\n",
       "        text-align: right;\n",
       "    }\n",
       "</style>\n",
       "<table border=\"1\" class=\"dataframe\">\n",
       "  <thead>\n",
       "    <tr style=\"text-align: right;\">\n",
       "      <th></th>\n",
       "      <th>id</th>\n",
       "      <th>mcc</th>\n",
       "      <th>mcc_description</th>\n",
       "    </tr>\n",
       "  </thead>\n",
       "  <tbody>\n",
       "    <tr>\n",
       "      <th>0</th>\n",
       "      <td>1</td>\n",
       "      <td>742</td>\n",
       "      <td>Veterinary Services</td>\n",
       "    </tr>\n",
       "    <tr>\n",
       "      <th>1</th>\n",
       "      <td>2</td>\n",
       "      <td>763</td>\n",
       "      <td>Agricultural Co-operatives</td>\n",
       "    </tr>\n",
       "    <tr>\n",
       "      <th>2</th>\n",
       "      <td>3</td>\n",
       "      <td>780</td>\n",
       "      <td>Horticultural Services, Landscaping Services</td>\n",
       "    </tr>\n",
       "    <tr>\n",
       "      <th>3</th>\n",
       "      <td>4</td>\n",
       "      <td>1520</td>\n",
       "      <td>General Contractors-Residential and Commercial</td>\n",
       "    </tr>\n",
       "    <tr>\n",
       "      <th>4</th>\n",
       "      <td>5</td>\n",
       "      <td>1711</td>\n",
       "      <td>Air Conditioning Contractors – Sales and Insta...</td>\n",
       "    </tr>\n",
       "  </tbody>\n",
       "</table>\n",
       "</div>"
      ],
      "text/plain": [
       "   id   mcc                                    mcc_description\n",
       "0   1   742                                Veterinary Services\n",
       "1   2   763                         Agricultural Co-operatives\n",
       "2   3   780       Horticultural Services, Landscaping Services\n",
       "3   4  1520     General Contractors-Residential and Commercial\n",
       "4   5  1711  Air Conditioning Contractors – Sales and Insta..."
      ]
     },
     "execution_count": 73,
     "metadata": {},
     "output_type": "execute_result"
    }
   ],
   "source": [
    "entMCC = pd.read_csv('https://raw.githubusercontent.com/greggles/mcc-codes/main/mcc_codes.csv')\n",
    "entMCC['mcc'] = entMCC['mcc'].map(int)\n",
    "entMCC= entMCC[['mcc','edited_description']]\n",
    "entMCC.columns = ['mcc','mcc_description']\n",
    "entMCC.insert(0,'id',entMCC.index+1)\n",
    "entMCC.head()"
   ]
  },
  {
   "cell_type": "code",
   "execution_count": 76,
   "metadata": {},
   "outputs": [
    {
     "data": {
      "text/plain": [
       "142"
      ]
     },
     "execution_count": 76,
     "metadata": {},
     "output_type": "execute_result"
    }
   ],
   "source": [
    "entMCC['mcc_description'].map(len).max()"
   ]
  },
  {
   "cell_type": "code",
   "execution_count": 77,
   "metadata": {},
   "outputs": [
    {
     "data": {
      "text/plain": [
       "981"
      ]
     },
     "execution_count": 77,
     "metadata": {},
     "output_type": "execute_result"
    }
   ],
   "source": [
    "dtypes = [INTEGER,INTEGER,VARCHAR(150)]\n",
    "entMCC.to_sql(name='tbl_mcc',\n",
    "               index=False,\n",
    "               con=cnx,\n",
    "               if_exists='replace',\n",
    "               chunksize=5000,\n",
    "\n",
    "               dtype=dict(zip(entMCC.columns,dtypes)))"
   ]
  },
  {
   "cell_type": "markdown",
   "metadata": {},
   "source": [
    "### User"
   ]
  },
  {
   "cell_type": "code",
   "execution_count": 89,
   "metadata": {},
   "outputs": [
    {
     "data": {
      "text/plain": [
       "2000"
      ]
     },
     "execution_count": 89,
     "metadata": {},
     "output_type": "execute_result"
    }
   ],
   "source": [
    "entUser = data[['User']].drop_duplicates().reset_index(drop=True)\n",
    "entUser.columns =['id']\n",
    "\n",
    "dtypes = [INTEGER]\n",
    "entUser.to_sql(name='tbl_user',\n",
    "               index=False,\n",
    "               con=cnx,\n",
    "               if_exists='replace',\n",
    "               chunksize=5000,\n",
    "\n",
    "               dtype=dict(zip(entUser.columns,dtypes)))"
   ]
  },
  {
   "cell_type": "markdown",
   "metadata": {},
   "source": [
    "### Card"
   ]
  },
  {
   "cell_type": "code",
   "execution_count": 91,
   "metadata": {},
   "outputs": [
    {
     "data": {
      "text/html": [
       "<div>\n",
       "<style scoped>\n",
       "    .dataframe tbody tr th:only-of-type {\n",
       "        vertical-align: middle;\n",
       "    }\n",
       "\n",
       "    .dataframe tbody tr th {\n",
       "        vertical-align: top;\n",
       "    }\n",
       "\n",
       "    .dataframe thead th {\n",
       "        text-align: right;\n",
       "    }\n",
       "</style>\n",
       "<table border=\"1\" class=\"dataframe\">\n",
       "  <thead>\n",
       "    <tr style=\"text-align: right;\">\n",
       "      <th></th>\n",
       "      <th>id</th>\n",
       "      <th>id_user</th>\n",
       "      <th>card_number</th>\n",
       "    </tr>\n",
       "  </thead>\n",
       "  <tbody>\n",
       "    <tr>\n",
       "      <th>0</th>\n",
       "      <td>1</td>\n",
       "      <td>0</td>\n",
       "      <td>0</td>\n",
       "    </tr>\n",
       "    <tr>\n",
       "      <th>1</th>\n",
       "      <td>2</td>\n",
       "      <td>0</td>\n",
       "      <td>1</td>\n",
       "    </tr>\n",
       "    <tr>\n",
       "      <th>2</th>\n",
       "      <td>3</td>\n",
       "      <td>0</td>\n",
       "      <td>2</td>\n",
       "    </tr>\n",
       "    <tr>\n",
       "      <th>3</th>\n",
       "      <td>4</td>\n",
       "      <td>0</td>\n",
       "      <td>3</td>\n",
       "    </tr>\n",
       "    <tr>\n",
       "      <th>4</th>\n",
       "      <td>5</td>\n",
       "      <td>0</td>\n",
       "      <td>4</td>\n",
       "    </tr>\n",
       "  </tbody>\n",
       "</table>\n",
       "</div>"
      ],
      "text/plain": [
       "   id id_user card_number\n",
       "0   1       0           0\n",
       "1   2       0           1\n",
       "2   3       0           2\n",
       "3   4       0           3\n",
       "4   5       0           4"
      ]
     },
     "execution_count": 91,
     "metadata": {},
     "output_type": "execute_result"
    }
   ],
   "source": [
    "entCard = data[['User','Card']].drop_duplicates().reset_index(drop=True)\n",
    "entCard.columns = ['id_user','card_number']\n",
    "entCard.insert(0,'id',entCard.index+1)\n",
    "entCard.head()"
   ]
  },
  {
   "cell_type": "code",
   "execution_count": 92,
   "metadata": {},
   "outputs": [
    {
     "data": {
      "text/plain": [
       "6139"
      ]
     },
     "execution_count": 92,
     "metadata": {},
     "output_type": "execute_result"
    }
   ],
   "source": [
    "dtypes = [INTEGER]*3\n",
    "entCard.to_sql(name='tbl_card',\n",
    "               index=False,\n",
    "               con=cnx,\n",
    "               if_exists='replace',\n",
    "               chunksize=5000,\n",
    "\n",
    "               dtype=dict(zip(entCard.columns,dtypes)))"
   ]
  },
  {
   "cell_type": "markdown",
   "metadata": {},
   "source": [
    "### Errores "
   ]
  },
  {
   "cell_type": "code",
   "execution_count": 103,
   "metadata": {},
   "outputs": [
    {
     "data": {
      "text/html": [
       "<div>\n",
       "<style scoped>\n",
       "    .dataframe tbody tr th:only-of-type {\n",
       "        vertical-align: middle;\n",
       "    }\n",
       "\n",
       "    .dataframe tbody tr th {\n",
       "        vertical-align: top;\n",
       "    }\n",
       "\n",
       "    .dataframe thead th {\n",
       "        text-align: right;\n",
       "    }\n",
       "</style>\n",
       "<table border=\"1\" class=\"dataframe\">\n",
       "  <thead>\n",
       "    <tr style=\"text-align: right;\">\n",
       "      <th></th>\n",
       "      <th>value</th>\n",
       "    </tr>\n",
       "  </thead>\n",
       "  <tbody>\n",
       "    <tr>\n",
       "      <th>0</th>\n",
       "      <td>Technical Glitch</td>\n",
       "    </tr>\n",
       "    <tr>\n",
       "      <th>1</th>\n",
       "      <td>Insufficient Balance</td>\n",
       "    </tr>\n",
       "    <tr>\n",
       "      <th>2</th>\n",
       "      <td>Bad PIN</td>\n",
       "    </tr>\n",
       "    <tr>\n",
       "      <th>3</th>\n",
       "      <td>Bad Expiration</td>\n",
       "    </tr>\n",
       "    <tr>\n",
       "      <th>4</th>\n",
       "      <td>Bad Card Number</td>\n",
       "    </tr>\n",
       "    <tr>\n",
       "      <th>5</th>\n",
       "      <td>Bad CVV</td>\n",
       "    </tr>\n",
       "    <tr>\n",
       "      <th>6</th>\n",
       "      <td>Bad Zipcode</td>\n",
       "    </tr>\n",
       "  </tbody>\n",
       "</table>\n",
       "</div>"
      ],
      "text/plain": [
       "                  value\n",
       "0      Technical Glitch\n",
       "1  Insufficient Balance\n",
       "2               Bad PIN\n",
       "3        Bad Expiration\n",
       "4       Bad Card Number\n",
       "5               Bad CVV\n",
       "6           Bad Zipcode"
      ]
     },
     "execution_count": 103,
     "metadata": {},
     "output_type": "execute_result"
    }
   ],
   "source": [
    "entError = data[['id','Errors?']].dropna().reset_index(drop=True)\n",
    "errors = [f'error_{i+1}' for i in range(3)]\n",
    "entError[errors] = entError['Errors?'].map(lambda x:x.split(',')).apply(pd.Series)\n",
    "entError.head()\n",
    "entError = entError.melt(id_vars=['id'],value_vars=errors).dropna().reset_index(drop=True).drop('variable',axis=1)\n",
    "entError = entError[['value']].drop_duplicates().reset_index(drop=True) "
   ]
  },
  {
   "cell_type": "code",
   "execution_count": 105,
   "metadata": {},
   "outputs": [
    {
     "data": {
      "text/html": [
       "<div>\n",
       "<style scoped>\n",
       "    .dataframe tbody tr th:only-of-type {\n",
       "        vertical-align: middle;\n",
       "    }\n",
       "\n",
       "    .dataframe tbody tr th {\n",
       "        vertical-align: top;\n",
       "    }\n",
       "\n",
       "    .dataframe thead th {\n",
       "        text-align: right;\n",
       "    }\n",
       "</style>\n",
       "<table border=\"1\" class=\"dataframe\">\n",
       "  <thead>\n",
       "    <tr style=\"text-align: right;\">\n",
       "      <th></th>\n",
       "      <th>id</th>\n",
       "      <th>error_description</th>\n",
       "    </tr>\n",
       "  </thead>\n",
       "  <tbody>\n",
       "    <tr>\n",
       "      <th>0</th>\n",
       "      <td>1</td>\n",
       "      <td>Technical Glitch</td>\n",
       "    </tr>\n",
       "    <tr>\n",
       "      <th>1</th>\n",
       "      <td>2</td>\n",
       "      <td>Insufficient Balance</td>\n",
       "    </tr>\n",
       "    <tr>\n",
       "      <th>2</th>\n",
       "      <td>3</td>\n",
       "      <td>Bad PIN</td>\n",
       "    </tr>\n",
       "    <tr>\n",
       "      <th>3</th>\n",
       "      <td>4</td>\n",
       "      <td>Bad Expiration</td>\n",
       "    </tr>\n",
       "    <tr>\n",
       "      <th>4</th>\n",
       "      <td>5</td>\n",
       "      <td>Bad Card Number</td>\n",
       "    </tr>\n",
       "  </tbody>\n",
       "</table>\n",
       "</div>"
      ],
      "text/plain": [
       "   id     error_description\n",
       "0   1      Technical Glitch\n",
       "1   2  Insufficient Balance\n",
       "2   3               Bad PIN\n",
       "3   4        Bad Expiration\n",
       "4   5       Bad Card Number"
      ]
     },
     "execution_count": 105,
     "metadata": {},
     "output_type": "execute_result"
    }
   ],
   "source": [
    "entError.columns = ['error_description']\n",
    "entError.insert(0,'id',entError.index+1)\n",
    "entError.head()"
   ]
  },
  {
   "cell_type": "code",
   "execution_count": 106,
   "metadata": {},
   "outputs": [
    {
     "data": {
      "text/plain": [
       "7"
      ]
     },
     "execution_count": 106,
     "metadata": {},
     "output_type": "execute_result"
    }
   ],
   "source": [
    "dtypes = [INTEGER,VARCHAR(20)]\n",
    "entError.to_sql(name='tbl_error',\n",
    "               index=False,\n",
    "               con=cnx,\n",
    "               if_exists='replace',\n",
    "               chunksize=5000,\n",
    "\n",
    "               dtype=dict(zip(entError.columns,dtypes)))"
   ]
  },
  {
   "cell_type": "markdown",
   "metadata": {},
   "source": [
    "### Transacción "
   ]
  },
  {
   "cell_type": "code",
   "execution_count": 108,
   "metadata": {},
   "outputs": [
    {
     "data": {
      "text/html": [
       "<div>\n",
       "<style scoped>\n",
       "    .dataframe tbody tr th:only-of-type {\n",
       "        vertical-align: middle;\n",
       "    }\n",
       "\n",
       "    .dataframe tbody tr th {\n",
       "        vertical-align: top;\n",
       "    }\n",
       "\n",
       "    .dataframe thead th {\n",
       "        text-align: right;\n",
       "    }\n",
       "</style>\n",
       "<table border=\"1\" class=\"dataframe\">\n",
       "  <thead>\n",
       "    <tr style=\"text-align: right;\">\n",
       "      <th></th>\n",
       "      <th>id</th>\n",
       "      <th>User</th>\n",
       "      <th>Card</th>\n",
       "      <th>Year</th>\n",
       "      <th>Month</th>\n",
       "      <th>Day</th>\n",
       "      <th>Time</th>\n",
       "      <th>Amount</th>\n",
       "      <th>Use Chip</th>\n",
       "      <th>Merchant Name</th>\n",
       "      <th>Merchant City</th>\n",
       "      <th>Merchant State</th>\n",
       "      <th>Zip</th>\n",
       "      <th>MCC</th>\n",
       "      <th>Errors?</th>\n",
       "      <th>Is Fraud?</th>\n",
       "    </tr>\n",
       "  </thead>\n",
       "  <tbody>\n",
       "    <tr>\n",
       "      <th>0</th>\n",
       "      <td>1</td>\n",
       "      <td>0</td>\n",
       "      <td>0</td>\n",
       "      <td>2002</td>\n",
       "      <td>9</td>\n",
       "      <td>1</td>\n",
       "      <td>06:21</td>\n",
       "      <td>$134.09</td>\n",
       "      <td>Swipe Transaction</td>\n",
       "      <td>3527213246127876953</td>\n",
       "      <td>La Verne</td>\n",
       "      <td>CA</td>\n",
       "      <td>91750.0</td>\n",
       "      <td>5300</td>\n",
       "      <td>NaN</td>\n",
       "      <td>No</td>\n",
       "    </tr>\n",
       "    <tr>\n",
       "      <th>1</th>\n",
       "      <td>2</td>\n",
       "      <td>0</td>\n",
       "      <td>0</td>\n",
       "      <td>2002</td>\n",
       "      <td>9</td>\n",
       "      <td>1</td>\n",
       "      <td>06:42</td>\n",
       "      <td>$38.48</td>\n",
       "      <td>Swipe Transaction</td>\n",
       "      <td>-727612092139916043</td>\n",
       "      <td>Monterey Park</td>\n",
       "      <td>CA</td>\n",
       "      <td>91754.0</td>\n",
       "      <td>5411</td>\n",
       "      <td>NaN</td>\n",
       "      <td>No</td>\n",
       "    </tr>\n",
       "  </tbody>\n",
       "</table>\n",
       "</div>"
      ],
      "text/plain": [
       "   id User Card  Year Month Day   Time   Amount           Use Chip  \\\n",
       "0   1    0    0  2002     9   1  06:21  $134.09  Swipe Transaction   \n",
       "1   2    0    0  2002     9   1  06:42   $38.48  Swipe Transaction   \n",
       "\n",
       "         Merchant Name  Merchant City Merchant State      Zip   MCC Errors?  \\\n",
       "0  3527213246127876953       La Verne             CA  91750.0  5300     NaN   \n",
       "1  -727612092139916043  Monterey Park             CA  91754.0  5411     NaN   \n",
       "\n",
       "  Is Fraud?  \n",
       "0        No  \n",
       "1        No  "
      ]
     },
     "execution_count": 108,
     "metadata": {},
     "output_type": "execute_result"
    }
   ],
   "source": [
    "data.head(2)"
   ]
  },
  {
   "cell_type": "code",
   "execution_count": 203,
   "metadata": {},
   "outputs": [],
   "source": [
    "entTxn = data.copy()\n",
    "entTxn['Amount'] = entTxn['Amount'].map(lambda x: x.replace('$','')).map(float)\n",
    "entTxn['Zip'] =entTxn['Zip'].fillna(99999.0).astype(float).astype(int)\n",
    "entTxn['Zip'] = np.where(entTxn['Zip']==99999,None,entTxn['Zip'].map(lambda x: f'{x:05d}'))\n",
    "entTxn['MCC'] = entTxn['MCC'].fillna(9999).astype(int)\n",
    "entTxn['MCC'] = np.where(entTxn['MCC']==9999,None,entTxn['MCC'])\n",
    "\n",
    "entTxn['Year'] = entTxn['Year'].astype(str)\n",
    "entTxn['Month'] = entTxn['Month'].astype(int).map(lambda x: f'{x:02d}')\n",
    "entTxn['Day'] = entTxn['Month'].astype(int).map(lambda x: f'{x:02d}')\n",
    "\n",
    "entTxn['txn_date'] = entTxn[['Year','Month','Day']].apply('-'.join,axis=1)\n",
    "entTxn['ts'] = entTxn[['txn_date','Time']].apply(' '.join,axis=1)\n",
    "\n",
    "entTxn['ts'] = pd.to_datetime(entTxn['ts'],format='%Y-%m-%d %H:%M')\n",
    "entTxn.drop(['Year','Month','Day','Time','txn_date','Errors?'],axis=1,inplace=True)\n",
    "\n",
    "entTxn.rename(columns={'User':'id_user','Card':'card_number'},inplace=True) \n",
    "entTxn = entTxn.merge(entCard.rename(columns={'id':'id_card'}),how='left',on=['id_user','card_number'])\n",
    "entTxn.drop('card_number',axis=1,inplace=True)\n",
    "\n",
    "entTxn.rename(columns={'Use Chip':'txn_type'},inplace=True) \n",
    "entTxn = entTxn.merge(entTipoTxn.rename(columns={'id':'id_txn_type'}),how='left',on=['txn_type'])\n",
    "entTxn.drop('txn_type',axis=1,inplace=True)\n",
    "\n",
    "entTxn.rename(columns={'Merchant Name':'merchant_name'},inplace=True) \n",
    "entTxn = entTxn.merge(entComercio.rename(columns={'id':'id_comercio'}),how='left',on=['merchant_name'])\n",
    "entTxn.drop('merchant_name',axis=1,inplace=True)\n",
    "\n",
    "entTxn = entTxn.merge(entTerritorio.rename(columns={'id':'id_territory'}),\n",
    "                      how='left',\n",
    "                      left_on=['Merchant State'],right_on=['territory_code'],indicator=True)\n",
    "\n",
    "entTxn['Merchant State'] = np.where(entTxn['_merge']=='left_only',entTxn['Merchant State'],None)\n",
    "entTxn = entTxn.merge(entTerritorio.rename(columns={'id':'id_territory'}),\n",
    "                      how='left',\n",
    "                      left_on=['Merchant State'],right_on=['territory_name'])\n",
    "entTxn['id_territory'] = (np.where(entTxn['id_territory_x'].isnull(),entTxn['id_territory_y'],entTxn['id_territory_x'])).astype(int)\n",
    "entTxn.drop(['id_territory_x','territory_code_x','territory_name_x','_merge','id_territory_y','territory_code_y','territory_name_y'],axis=1,inplace=True)\n",
    "entTxn.drop(['Merchant City','Merchant State'],axis= 1,inplace=True)   \n",
    "\n",
    "entTxn.rename(columns={'Zip':'zip_code'},inplace=True) \n",
    "entTxn = entTxn.merge(entZip.rename(columns={'id':'id_zip'}),\n",
    "                      how='left',\n",
    "                      on='zip_code')\n",
    "entTxn.drop('zip_code',axis=1,inplace=True)\n",
    "\n",
    "entTxn.rename(columns={'MCC':'mcc'},inplace=True) \n",
    "entTxn = entTxn.merge(entMCC.rename(columns={'id':'id_mcc'}).drop('mcc_description',axis=1),\n",
    "                      how='left',\n",
    "                      on='mcc')\n",
    "entTxn.drop('mcc',axis=1,inplace=True)\n",
    "\n",
    "entTxn.rename(columns={'Is Fraud?' : 'is_fraud'},inplace=True)\n",
    "entTxn['is_fraud'] = entTxn['is_fraud']=='Yes'\n",
    "\n",
    "entTxn.rename(columns={'Amount':'amount'},inplace=True)"
   ]
  },
  {
   "cell_type": "code",
   "execution_count": 204,
   "metadata": {},
   "outputs": [],
   "source": [
    "dtypes = [INTEGER]*2+[FLOAT,BOOLEAN,DATETIME]+[INTEGER]*7\n",
    "entTxn.to_sql(name='tbl_txn',\n",
    "               index=False,\n",
    "               con=cnx,\n",
    "               if_exists='replace',\n",
    "               chunksize=5000,\n",
    "\n",
    "               dtype=dict(zip(entTxn.columns,dtypes)))"
   ]
  },
  {
   "cell_type": "markdown",
   "metadata": {},
   "source": [
    "### Transacción-Error"
   ]
  },
  {
   "cell_type": "code",
   "execution_count": 195,
   "metadata": {},
   "outputs": [],
   "source": [
    "entErrTxn = data[['id','Errors?']].dropna().reset_index(drop=True)\n",
    "errors = [f'error_{i+1}' for i in range(3)]\n",
    "entErrTxn[errors] = entErrTxn['Errors?'].map(lambda x:x.split(',')).apply(pd.Series)\n",
    "entErrTxn = entErrTxn.melt(id_vars=['id'],value_vars=errors).dropna().reset_index(drop=True).drop('variable',axis=1)\n",
    "entErrTxn = entErrTxn.merge(entError.rename(columns={'id':'id_error'}),left_on='value',right_on='error_description').drop(['value','error_description'],axis=1).rename(columns={'id':'id_txn'})"
   ]
  },
  {
   "cell_type": "code",
   "execution_count": 202,
   "metadata": {},
   "outputs": [
    {
     "data": {
      "text/plain": [
       "390151"
      ]
     },
     "execution_count": 202,
     "metadata": {},
     "output_type": "execute_result"
    }
   ],
   "source": [
    "dtypes = [INTEGER]*2\n",
    "entErrTxn.to_sql(name='tbl_txn_error',\n",
    "               index=False,\n",
    "               con=cnx,\n",
    "               if_exists='replace',\n",
    "               chunksize=5000,\n",
    "\n",
    "               dtype=dict(zip(entErrTxn.columns,dtypes)))"
   ]
  },
  {
   "cell_type": "code",
   "execution_count": null,
   "metadata": {},
   "outputs": [],
   "source": []
  }
 ],
 "metadata": {
  "kernelspec": {
   "display_name": "TSC Actuaría",
   "language": "python",
   "name": "tsc"
  },
  "language_info": {
   "codemirror_mode": {
    "name": "ipython",
    "version": 3
   },
   "file_extension": ".py",
   "mimetype": "text/x-python",
   "name": "python",
   "nbconvert_exporter": "python",
   "pygments_lexer": "ipython3",
   "version": "3.10.12"
  },
  "orig_nbformat": 4
 },
 "nbformat": 4,
 "nbformat_minor": 2
}
