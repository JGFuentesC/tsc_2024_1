{
 "cells": [
  {
   "cell_type": "markdown",
   "metadata": {},
   "source": [
    "## Dependencias "
   ]
  },
  {
   "cell_type": "code",
   "execution_count": 14,
   "metadata": {},
   "outputs": [],
   "source": [
    "import numpy as np\n",
    "import pandas as pd \n",
    "\n",
    "from sqlalchemy import create_engine\n",
    "from sqlalchemy.types import VARCHAR,CHAR,INTEGER,BIGINT,BOOLEAN,DATE,DATETIME,FLOAT\n",
    "\n",
    "import json\n",
    "pd.set_option('display.max_columns',None)"
   ]
  },
  {
   "cell_type": "markdown",
   "metadata": {},
   "source": [
    "## Lectura de datos "
   ]
  },
  {
   "cell_type": "code",
   "execution_count": 15,
   "metadata": {},
   "outputs": [],
   "source": [
    "ruta = '/media/jose/090f6b94-de30-4aaf-9f8a-4e18b120d7f6/bd/02.  Para Ingeniería/cc_txn/credit_card_transactions-ibm_v2.csv'"
   ]
  },
  {
   "cell_type": "code",
   "execution_count": 16,
   "metadata": {},
   "outputs": [
    {
     "data": {
      "text/plain": [
       "(24386900, 15)"
      ]
     },
     "execution_count": 16,
     "metadata": {},
     "output_type": "execute_result"
    }
   ],
   "source": [
    "data = pd.read_csv(ruta,dtype=str)\n",
    "data.shape"
   ]
  },
  {
   "cell_type": "code",
   "execution_count": 19,
   "metadata": {},
   "outputs": [],
   "source": [
    "data = data.sample(100000).reset_index(drop=True)"
   ]
  },
  {
   "cell_type": "code",
   "execution_count": 20,
   "metadata": {},
   "outputs": [
    {
     "data": {
      "text/html": [
       "<div>\n",
       "<style scoped>\n",
       "    .dataframe tbody tr th:only-of-type {\n",
       "        vertical-align: middle;\n",
       "    }\n",
       "\n",
       "    .dataframe tbody tr th {\n",
       "        vertical-align: top;\n",
       "    }\n",
       "\n",
       "    .dataframe thead th {\n",
       "        text-align: right;\n",
       "    }\n",
       "</style>\n",
       "<table border=\"1\" class=\"dataframe\">\n",
       "  <thead>\n",
       "    <tr style=\"text-align: right;\">\n",
       "      <th></th>\n",
       "      <th>User</th>\n",
       "      <th>Card</th>\n",
       "      <th>Year</th>\n",
       "      <th>Month</th>\n",
       "      <th>Day</th>\n",
       "      <th>Time</th>\n",
       "      <th>Amount</th>\n",
       "      <th>Use Chip</th>\n",
       "      <th>Merchant Name</th>\n",
       "      <th>Merchant City</th>\n",
       "      <th>Merchant State</th>\n",
       "      <th>Zip</th>\n",
       "      <th>MCC</th>\n",
       "      <th>Errors?</th>\n",
       "      <th>Is Fraud?</th>\n",
       "    </tr>\n",
       "  </thead>\n",
       "  <tbody>\n",
       "    <tr>\n",
       "      <th>0</th>\n",
       "      <td>1986</td>\n",
       "      <td>0</td>\n",
       "      <td>2016</td>\n",
       "      <td>11</td>\n",
       "      <td>26</td>\n",
       "      <td>12:49</td>\n",
       "      <td>$39.46</td>\n",
       "      <td>Chip Transaction</td>\n",
       "      <td>2910328604019547969</td>\n",
       "      <td>Knoxville</td>\n",
       "      <td>TN</td>\n",
       "      <td>37918.0</td>\n",
       "      <td>7538</td>\n",
       "      <td>NaN</td>\n",
       "      <td>No</td>\n",
       "    </tr>\n",
       "    <tr>\n",
       "      <th>1</th>\n",
       "      <td>1075</td>\n",
       "      <td>3</td>\n",
       "      <td>2008</td>\n",
       "      <td>9</td>\n",
       "      <td>16</td>\n",
       "      <td>15:20</td>\n",
       "      <td>$89.94</td>\n",
       "      <td>Swipe Transaction</td>\n",
       "      <td>4449607287528943014</td>\n",
       "      <td>Clinton</td>\n",
       "      <td>TN</td>\n",
       "      <td>37716.0</td>\n",
       "      <td>5411</td>\n",
       "      <td>NaN</td>\n",
       "      <td>No</td>\n",
       "    </tr>\n",
       "  </tbody>\n",
       "</table>\n",
       "</div>"
      ],
      "text/plain": [
       "   User Card  Year Month Day   Time  Amount           Use Chip  \\\n",
       "0  1986    0  2016    11  26  12:49  $39.46   Chip Transaction   \n",
       "1  1075    3  2008     9  16  15:20  $89.94  Swipe Transaction   \n",
       "\n",
       "         Merchant Name Merchant City Merchant State      Zip   MCC Errors?  \\\n",
       "0  2910328604019547969     Knoxville             TN  37918.0  7538     NaN   \n",
       "1  4449607287528943014       Clinton             TN  37716.0  5411     NaN   \n",
       "\n",
       "  Is Fraud?  \n",
       "0        No  \n",
       "1        No  "
      ]
     },
     "execution_count": 20,
     "metadata": {},
     "output_type": "execute_result"
    }
   ],
   "source": [
    "data.head(2)"
   ]
  },
  {
   "cell_type": "markdown",
   "metadata": {},
   "source": [
    "## Conexión a BD"
   ]
  },
  {
   "cell_type": "code",
   "execution_count": 21,
   "metadata": {},
   "outputs": [],
   "source": [
    "creds = json.load(open('../../creds/mysql.json','r'))"
   ]
  },
  {
   "cell_type": "code",
   "execution_count": 22,
   "metadata": {},
   "outputs": [],
   "source": [
    "cnx = create_engine(f\"mysql+pymysql://{creds['u']}:{creds['p']}@{creds['h']}/{creds['d']}\").connect()"
   ]
  },
  {
   "cell_type": "markdown",
   "metadata": {},
   "source": [
    "## Entidades"
   ]
  },
  {
   "cell_type": "markdown",
   "metadata": {},
   "source": [
    "### Comercio"
   ]
  },
  {
   "cell_type": "code",
   "execution_count": 23,
   "metadata": {},
   "outputs": [
    {
     "data": {
      "text/html": [
       "<div>\n",
       "<style scoped>\n",
       "    .dataframe tbody tr th:only-of-type {\n",
       "        vertical-align: middle;\n",
       "    }\n",
       "\n",
       "    .dataframe tbody tr th {\n",
       "        vertical-align: top;\n",
       "    }\n",
       "\n",
       "    .dataframe thead th {\n",
       "        text-align: right;\n",
       "    }\n",
       "</style>\n",
       "<table border=\"1\" class=\"dataframe\">\n",
       "  <thead>\n",
       "    <tr style=\"text-align: right;\">\n",
       "      <th></th>\n",
       "      <th>id</th>\n",
       "      <th>merchant_name</th>\n",
       "    </tr>\n",
       "  </thead>\n",
       "  <tbody>\n",
       "    <tr>\n",
       "      <th>0</th>\n",
       "      <td>1</td>\n",
       "      <td>2910328604019547969</td>\n",
       "    </tr>\n",
       "    <tr>\n",
       "      <th>1</th>\n",
       "      <td>2</td>\n",
       "      <td>4449607287528943014</td>\n",
       "    </tr>\n",
       "    <tr>\n",
       "      <th>2</th>\n",
       "      <td>3</td>\n",
       "      <td>2367739630280360626</td>\n",
       "    </tr>\n",
       "    <tr>\n",
       "      <th>3</th>\n",
       "      <td>4</td>\n",
       "      <td>-2088492411650162548</td>\n",
       "    </tr>\n",
       "    <tr>\n",
       "      <th>4</th>\n",
       "      <td>5</td>\n",
       "      <td>-6160036380778658394</td>\n",
       "    </tr>\n",
       "  </tbody>\n",
       "</table>\n",
       "</div>"
      ],
      "text/plain": [
       "   id         merchant_name\n",
       "0   1   2910328604019547969\n",
       "1   2   4449607287528943014\n",
       "2   3   2367739630280360626\n",
       "3   4  -2088492411650162548\n",
       "4   5  -6160036380778658394"
      ]
     },
     "execution_count": 23,
     "metadata": {},
     "output_type": "execute_result"
    }
   ],
   "source": [
    "entComercio = data[['Merchant Name']].drop_duplicates().reset_index(drop=True)\n",
    "entComercio.insert(0,'id',entComercio.index+1)\n",
    "entComercio.columns = ['id','merchant_name']\n",
    "entComercio['merchant_name'] = entComercio['merchant_name'].map(str)\n",
    "entComercio.head()"
   ]
  },
  {
   "cell_type": "code",
   "execution_count": 24,
   "metadata": {},
   "outputs": [
    {
     "data": {
      "text/plain": [
       "20"
      ]
     },
     "execution_count": 24,
     "metadata": {},
     "output_type": "execute_result"
    }
   ],
   "source": [
    "entComercio['merchant_name'].map(len).max()"
   ]
  },
  {
   "cell_type": "code",
   "execution_count": 25,
   "metadata": {},
   "outputs": [
    {
     "data": {
      "text/plain": [
       "11362"
      ]
     },
     "execution_count": 25,
     "metadata": {},
     "output_type": "execute_result"
    }
   ],
   "source": [
    "dtypes = [INTEGER,VARCHAR(20)]\n",
    "entComercio.to_sql(name='tbl_merchant',\n",
    "               index=False,\n",
    "               con=cnx,\n",
    "               if_exists='replace',\n",
    "               chunksize=5000,\n",
    "               dtype=dict(zip(entComercio.columns,dtypes)))"
   ]
  },
  {
   "cell_type": "markdown",
   "metadata": {},
   "source": [
    "### Territorio"
   ]
  },
  {
   "cell_type": "code",
   "execution_count": 29,
   "metadata": {},
   "outputs": [],
   "source": [
    "entTerritorio = pd.read_clipboard()"
   ]
  },
  {
   "cell_type": "code",
   "execution_count": 30,
   "metadata": {},
   "outputs": [
    {
     "data": {
      "text/html": [
       "<div>\n",
       "<style scoped>\n",
       "    .dataframe tbody tr th:only-of-type {\n",
       "        vertical-align: middle;\n",
       "    }\n",
       "\n",
       "    .dataframe tbody tr th {\n",
       "        vertical-align: top;\n",
       "    }\n",
       "\n",
       "    .dataframe thead th {\n",
       "        text-align: right;\n",
       "    }\n",
       "</style>\n",
       "<table border=\"1\" class=\"dataframe\">\n",
       "  <thead>\n",
       "    <tr style=\"text-align: right;\">\n",
       "      <th></th>\n",
       "      <th>id</th>\n",
       "      <th>territory_code</th>\n",
       "      <th>territory_name</th>\n",
       "    </tr>\n",
       "  </thead>\n",
       "  <tbody>\n",
       "    <tr>\n",
       "      <th>220</th>\n",
       "      <td>221</td>\n",
       "      <td>170</td>\n",
       "      <td>Paraguay</td>\n",
       "    </tr>\n",
       "    <tr>\n",
       "      <th>221</th>\n",
       "      <td>222</td>\n",
       "      <td>171</td>\n",
       "      <td>Kiribati</td>\n",
       "    </tr>\n",
       "    <tr>\n",
       "      <th>222</th>\n",
       "      <td>223</td>\n",
       "      <td>172</td>\n",
       "      <td>Botswana</td>\n",
       "    </tr>\n",
       "    <tr>\n",
       "      <th>223</th>\n",
       "      <td>224</td>\n",
       "      <td>173</td>\n",
       "      <td>Online</td>\n",
       "    </tr>\n",
       "    <tr>\n",
       "      <th>224</th>\n",
       "      <td>225</td>\n",
       "      <td>AA</td>\n",
       "      <td>Diplomatic Post Office</td>\n",
       "    </tr>\n",
       "  </tbody>\n",
       "</table>\n",
       "</div>"
      ],
      "text/plain": [
       "      id territory_code          territory_name\n",
       "220  221            170                Paraguay\n",
       "221  222            171                Kiribati\n",
       "222  223            172                Botswana\n",
       "223  224            173                  Online\n",
       "224  225             AA  Diplomatic Post Office"
      ]
     },
     "execution_count": 30,
     "metadata": {},
     "output_type": "execute_result"
    }
   ],
   "source": [
    "entTerritorio.tail()"
   ]
  },
  {
   "cell_type": "code",
   "execution_count": 31,
   "metadata": {},
   "outputs": [
    {
     "data": {
      "text/plain": [
       "225"
      ]
     },
     "execution_count": 31,
     "metadata": {},
     "output_type": "execute_result"
    }
   ],
   "source": [
    "dtypes = [INTEGER,VARCHAR(3),VARCHAR(32)]\n",
    "entTerritorio.to_sql(name='tbl_territory',\n",
    "               index=False,\n",
    "               con=cnx,\n",
    "               if_exists='replace',\n",
    "               chunksize=5000,\n",
    "               dtype=dict(zip(entTerritorio.columns,dtypes)))"
   ]
  },
  {
   "cell_type": "markdown",
   "metadata": {},
   "source": [
    "### Ciudad"
   ]
  },
  {
   "cell_type": "code",
   "execution_count": 32,
   "metadata": {},
   "outputs": [],
   "source": [
    "data['Merchant State'] = np.where(data['Merchant City']=='ONLINE','Online',data['Merchant State'])"
   ]
  },
  {
   "cell_type": "code",
   "execution_count": 33,
   "metadata": {},
   "outputs": [],
   "source": [
    "entCiudad = data[['Merchant City','Merchant State']].drop_duplicates()"
   ]
  },
  {
   "cell_type": "code",
   "execution_count": 34,
   "metadata": {},
   "outputs": [],
   "source": [
    "entCiudad.columns = ['territory_city','territory_name']"
   ]
  },
  {
   "cell_type": "code",
   "execution_count": 35,
   "metadata": {},
   "outputs": [
    {
     "data": {
      "text/html": [
       "<div>\n",
       "<style scoped>\n",
       "    .dataframe tbody tr th:only-of-type {\n",
       "        vertical-align: middle;\n",
       "    }\n",
       "\n",
       "    .dataframe tbody tr th {\n",
       "        vertical-align: top;\n",
       "    }\n",
       "\n",
       "    .dataframe thead th {\n",
       "        text-align: right;\n",
       "    }\n",
       "</style>\n",
       "<table border=\"1\" class=\"dataframe\">\n",
       "  <thead>\n",
       "    <tr style=\"text-align: right;\">\n",
       "      <th></th>\n",
       "      <th>territory_city</th>\n",
       "      <th>territory_name_x</th>\n",
       "      <th>id_x</th>\n",
       "      <th>territory_code_x</th>\n",
       "      <th>id_y</th>\n",
       "      <th>territory_code_y</th>\n",
       "      <th>territory_name_y</th>\n",
       "    </tr>\n",
       "  </thead>\n",
       "  <tbody>\n",
       "    <tr>\n",
       "      <th>6539</th>\n",
       "      <td>Hazen</td>\n",
       "      <td>AR</td>\n",
       "      <td>NaN</td>\n",
       "      <td>NaN</td>\n",
       "      <td>29.0</td>\n",
       "      <td>AR</td>\n",
       "      <td>Arkansas</td>\n",
       "    </tr>\n",
       "    <tr>\n",
       "      <th>6540</th>\n",
       "      <td>Winfield</td>\n",
       "      <td>KS</td>\n",
       "      <td>NaN</td>\n",
       "      <td>NaN</td>\n",
       "      <td>32.0</td>\n",
       "      <td>KS</td>\n",
       "      <td>Kansas</td>\n",
       "    </tr>\n",
       "    <tr>\n",
       "      <th>6541</th>\n",
       "      <td>Beckemeyer</td>\n",
       "      <td>IL</td>\n",
       "      <td>NaN</td>\n",
       "      <td>NaN</td>\n",
       "      <td>6.0</td>\n",
       "      <td>IL</td>\n",
       "      <td>Illinois</td>\n",
       "    </tr>\n",
       "    <tr>\n",
       "      <th>6542</th>\n",
       "      <td>Sergeant Bluff</td>\n",
       "      <td>IA</td>\n",
       "      <td>NaN</td>\n",
       "      <td>NaN</td>\n",
       "      <td>28.0</td>\n",
       "      <td>IA</td>\n",
       "      <td>Iowa</td>\n",
       "    </tr>\n",
       "    <tr>\n",
       "      <th>6543</th>\n",
       "      <td>Jamestown</td>\n",
       "      <td>PA</td>\n",
       "      <td>NaN</td>\n",
       "      <td>NaN</td>\n",
       "      <td>7.0</td>\n",
       "      <td>PA</td>\n",
       "      <td>Pennsylvania</td>\n",
       "    </tr>\n",
       "  </tbody>\n",
       "</table>\n",
       "</div>"
      ],
      "text/plain": [
       "      territory_city territory_name_x id_x territory_code_x  id_y  \\\n",
       "6539           Hazen               AR  NaN              NaN  29.0   \n",
       "6540        Winfield               KS  NaN              NaN  32.0   \n",
       "6541      Beckemeyer               IL  NaN              NaN   6.0   \n",
       "6542  Sergeant Bluff               IA  NaN              NaN  28.0   \n",
       "6543       Jamestown               PA  NaN              NaN   7.0   \n",
       "\n",
       "     territory_code_y territory_name_y  \n",
       "6539               AR         Arkansas  \n",
       "6540               KS           Kansas  \n",
       "6541               IL         Illinois  \n",
       "6542               IA             Iowa  \n",
       "6543               PA     Pennsylvania  "
      ]
     },
     "execution_count": 35,
     "metadata": {},
     "output_type": "execute_result"
    }
   ],
   "source": [
    "aux = entCiudad.merge(entTerritorio,how='left',on=['territory_name'])\n",
    "aux['id'] =np.where(aux['id']<52,None,aux['id']) \n",
    "aux = aux.merge(entTerritorio,how='left',\n",
    "                left_on=['territory_name'],right_on=['territory_code'])\n",
    "aux.tail()\n"
   ]
  },
  {
   "cell_type": "code",
   "execution_count": 36,
   "metadata": {},
   "outputs": [],
   "source": [
    "aux['id_territory'] = (np.where(aux['id_y'].isnull(),aux['id_x'],aux['id_y'])).astype(int)"
   ]
  },
  {
   "cell_type": "code",
   "execution_count": 37,
   "metadata": {},
   "outputs": [],
   "source": [
    "aux = aux[['id_territory','territory_city']].dropna().reset_index(drop=True)\n",
    "aux.insert(0,'id',aux.index+1)"
   ]
  },
  {
   "cell_type": "code",
   "execution_count": 38,
   "metadata": {},
   "outputs": [
    {
     "data": {
      "text/plain": [
       "26"
      ]
     },
     "execution_count": 38,
     "metadata": {},
     "output_type": "execute_result"
    }
   ],
   "source": [
    "aux['territory_city'].map(len).max()"
   ]
  },
  {
   "cell_type": "code",
   "execution_count": 39,
   "metadata": {},
   "outputs": [
    {
     "data": {
      "text/plain": [
       "6544"
      ]
     },
     "execution_count": 39,
     "metadata": {},
     "output_type": "execute_result"
    }
   ],
   "source": [
    "dtypes = [INTEGER,INTEGER,VARCHAR(26)]\n",
    "aux.to_sql(name='tbl_city',\n",
    "               index=False,\n",
    "               con=cnx,\n",
    "               if_exists='replace',\n",
    "               chunksize=5000,\n",
    "               dtype=dict(zip(aux.columns,dtypes)))"
   ]
  },
  {
   "cell_type": "markdown",
   "metadata": {},
   "source": [
    "### Tipo de Transacción\n"
   ]
  },
  {
   "cell_type": "code",
   "execution_count": 40,
   "metadata": {},
   "outputs": [
    {
     "data": {
      "text/plain": [
       "18"
      ]
     },
     "execution_count": 40,
     "metadata": {},
     "output_type": "execute_result"
    }
   ],
   "source": [
    "entTipoTxn = data[['Use Chip']].drop_duplicates().reset_index(drop=True)\n",
    "entTipoTxn.insert(0,'id',entTipoTxn.index+1)\n",
    "entTipoTxn.columns = ['id','txn_type']\n",
    "entTipoTxn['txn_type'].map(len).max()"
   ]
  },
  {
   "cell_type": "code",
   "execution_count": 41,
   "metadata": {},
   "outputs": [
    {
     "data": {
      "text/plain": [
       "3"
      ]
     },
     "execution_count": 41,
     "metadata": {},
     "output_type": "execute_result"
    }
   ],
   "source": [
    "dtypes = [INTEGER,VARCHAR(18)]\n",
    "entTipoTxn.to_sql(name='tbl_txn_type',\n",
    "               index=False,\n",
    "               con=cnx,\n",
    "               if_exists='replace',\n",
    "               chunksize=5000,\n",
    "\n",
    "               dtype=dict(zip(entTipoTxn.columns,dtypes)))"
   ]
  },
  {
   "cell_type": "markdown",
   "metadata": {},
   "source": [
    "### Código Postal"
   ]
  },
  {
   "cell_type": "code",
   "execution_count": 42,
   "metadata": {},
   "outputs": [
    {
     "data": {
      "text/html": [
       "<div>\n",
       "<style scoped>\n",
       "    .dataframe tbody tr th:only-of-type {\n",
       "        vertical-align: middle;\n",
       "    }\n",
       "\n",
       "    .dataframe tbody tr th {\n",
       "        vertical-align: top;\n",
       "    }\n",
       "\n",
       "    .dataframe thead th {\n",
       "        text-align: right;\n",
       "    }\n",
       "</style>\n",
       "<table border=\"1\" class=\"dataframe\">\n",
       "  <thead>\n",
       "    <tr style=\"text-align: right;\">\n",
       "      <th></th>\n",
       "      <th>id</th>\n",
       "      <th>zip_code</th>\n",
       "      <th>id_city</th>\n",
       "    </tr>\n",
       "  </thead>\n",
       "  <tbody>\n",
       "    <tr>\n",
       "      <th>0</th>\n",
       "      <td>1</td>\n",
       "      <td>37918</td>\n",
       "      <td>1</td>\n",
       "    </tr>\n",
       "    <tr>\n",
       "      <th>1</th>\n",
       "      <td>2</td>\n",
       "      <td>37931</td>\n",
       "      <td>1</td>\n",
       "    </tr>\n",
       "    <tr>\n",
       "      <th>2</th>\n",
       "      <td>3</td>\n",
       "      <td>37917</td>\n",
       "      <td>1</td>\n",
       "    </tr>\n",
       "    <tr>\n",
       "      <th>3</th>\n",
       "      <td>4</td>\n",
       "      <td>37938</td>\n",
       "      <td>1</td>\n",
       "    </tr>\n",
       "    <tr>\n",
       "      <th>4</th>\n",
       "      <td>5</td>\n",
       "      <td>37933</td>\n",
       "      <td>1</td>\n",
       "    </tr>\n",
       "  </tbody>\n",
       "</table>\n",
       "</div>"
      ],
      "text/plain": [
       "   id zip_code  id_city\n",
       "0   1    37918        1\n",
       "1   2    37931        1\n",
       "2   3    37917        1\n",
       "3   4    37938        1\n",
       "4   5    37933        1"
      ]
     },
     "execution_count": 42,
     "metadata": {},
     "output_type": "execute_result"
    }
   ],
   "source": [
    "entZip = data[['Merchant City','Merchant State','Zip']].drop_duplicates().dropna().reset_index(drop=True)\n",
    "entZip['Zip'] = entZip['Zip'].map(float).astype(int).map(lambda x: f'{x:05d}')\n",
    "entZip = entZip.merge(entTerritorio,how='inner',left_on=['Merchant State'],right_on=['territory_code'])\n",
    "entZip = entZip.merge(aux[['id','territory_city','id_territory']],how='inner',left_on=['Merchant City','id'],right_on=['territory_city','id_territory'])\n",
    "entZip = entZip[['Zip','id_y']]\n",
    "entZip.columns = ['zip_code','id_city']\n",
    "entZip.insert(0,'id',(entZip.index+1).astype(int))\n",
    "entZip.head()"
   ]
  },
  {
   "cell_type": "code",
   "execution_count": 43,
   "metadata": {},
   "outputs": [
    {
     "data": {
      "text/plain": [
       "9506"
      ]
     },
     "execution_count": 43,
     "metadata": {},
     "output_type": "execute_result"
    }
   ],
   "source": [
    "dtypes = [INTEGER,CHAR(5),INTEGER]\n",
    "entZip.to_sql(name='tbl_zip',\n",
    "               index=False,\n",
    "               con=cnx,\n",
    "               if_exists='replace',\n",
    "               chunksize=5000,\n",
    "\n",
    "               dtype=dict(zip(entZip.columns,dtypes)))"
   ]
  },
  {
   "cell_type": "markdown",
   "metadata": {},
   "source": [
    "### MCC - Merchant Category Code"
   ]
  },
  {
   "cell_type": "code",
   "execution_count": 44,
   "metadata": {},
   "outputs": [],
   "source": [
    "mcc = data[['MCC']].drop_duplicates().dropna().reset_index(drop=True).astype(int)"
   ]
  },
  {
   "cell_type": "code",
   "execution_count": 45,
   "metadata": {},
   "outputs": [
    {
     "data": {
      "text/html": [
       "<div>\n",
       "<style scoped>\n",
       "    .dataframe tbody tr th:only-of-type {\n",
       "        vertical-align: middle;\n",
       "    }\n",
       "\n",
       "    .dataframe tbody tr th {\n",
       "        vertical-align: top;\n",
       "    }\n",
       "\n",
       "    .dataframe thead th {\n",
       "        text-align: right;\n",
       "    }\n",
       "</style>\n",
       "<table border=\"1\" class=\"dataframe\">\n",
       "  <thead>\n",
       "    <tr style=\"text-align: right;\">\n",
       "      <th></th>\n",
       "      <th>id</th>\n",
       "      <th>mcc</th>\n",
       "      <th>mcc_description</th>\n",
       "    </tr>\n",
       "  </thead>\n",
       "  <tbody>\n",
       "    <tr>\n",
       "      <th>0</th>\n",
       "      <td>1</td>\n",
       "      <td>742</td>\n",
       "      <td>Veterinary Services</td>\n",
       "    </tr>\n",
       "    <tr>\n",
       "      <th>1</th>\n",
       "      <td>2</td>\n",
       "      <td>763</td>\n",
       "      <td>Agricultural Co-operatives</td>\n",
       "    </tr>\n",
       "    <tr>\n",
       "      <th>2</th>\n",
       "      <td>3</td>\n",
       "      <td>780</td>\n",
       "      <td>Horticultural Services, Landscaping Services</td>\n",
       "    </tr>\n",
       "    <tr>\n",
       "      <th>3</th>\n",
       "      <td>4</td>\n",
       "      <td>1520</td>\n",
       "      <td>General Contractors-Residential and Commercial</td>\n",
       "    </tr>\n",
       "    <tr>\n",
       "      <th>4</th>\n",
       "      <td>5</td>\n",
       "      <td>1711</td>\n",
       "      <td>Air Conditioning Contractors – Sales and Insta...</td>\n",
       "    </tr>\n",
       "  </tbody>\n",
       "</table>\n",
       "</div>"
      ],
      "text/plain": [
       "   id   mcc                                    mcc_description\n",
       "0   1   742                                Veterinary Services\n",
       "1   2   763                         Agricultural Co-operatives\n",
       "2   3   780       Horticultural Services, Landscaping Services\n",
       "3   4  1520     General Contractors-Residential and Commercial\n",
       "4   5  1711  Air Conditioning Contractors – Sales and Insta..."
      ]
     },
     "execution_count": 45,
     "metadata": {},
     "output_type": "execute_result"
    }
   ],
   "source": [
    "entMCC = pd.read_csv('https://raw.githubusercontent.com/greggles/mcc-codes/main/mcc_codes.csv')\n",
    "entMCC['mcc'] = entMCC['mcc'].map(int)\n",
    "entMCC= entMCC[['mcc','edited_description']]\n",
    "entMCC.columns = ['mcc','mcc_description']\n",
    "entMCC.insert(0,'id',entMCC.index+1)\n",
    "entMCC.head()"
   ]
  },
  {
   "cell_type": "code",
   "execution_count": 46,
   "metadata": {},
   "outputs": [
    {
     "data": {
      "text/plain": [
       "142"
      ]
     },
     "execution_count": 46,
     "metadata": {},
     "output_type": "execute_result"
    }
   ],
   "source": [
    "entMCC['mcc_description'].map(len).max()"
   ]
  },
  {
   "cell_type": "code",
   "execution_count": 47,
   "metadata": {},
   "outputs": [
    {
     "data": {
      "text/plain": [
       "981"
      ]
     },
     "execution_count": 47,
     "metadata": {},
     "output_type": "execute_result"
    }
   ],
   "source": [
    "dtypes = [INTEGER,INTEGER,VARCHAR(150)]\n",
    "entMCC.to_sql(name='tbl_mcc',\n",
    "               index=False,\n",
    "               con=cnx,\n",
    "               if_exists='replace',\n",
    "               chunksize=5000,\n",
    "\n",
    "               dtype=dict(zip(entMCC.columns,dtypes)))"
   ]
  },
  {
   "cell_type": "markdown",
   "metadata": {},
   "source": [
    "### User"
   ]
  },
  {
   "cell_type": "code",
   "execution_count": 48,
   "metadata": {},
   "outputs": [
    {
     "data": {
      "text/plain": [
       "1755"
      ]
     },
     "execution_count": 48,
     "metadata": {},
     "output_type": "execute_result"
    }
   ],
   "source": [
    "entUser = data[['User']].drop_duplicates().reset_index(drop=True)\n",
    "entUser.columns =['id']\n",
    "\n",
    "dtypes = [INTEGER]\n",
    "entUser.to_sql(name='tbl_user',\n",
    "               index=False,\n",
    "               con=cnx,\n",
    "               if_exists='replace',\n",
    "               chunksize=5000,\n",
    "\n",
    "               dtype=dict(zip(entUser.columns,dtypes)))"
   ]
  },
  {
   "cell_type": "markdown",
   "metadata": {},
   "source": [
    "### Card"
   ]
  },
  {
   "cell_type": "code",
   "execution_count": 49,
   "metadata": {},
   "outputs": [
    {
     "data": {
      "text/html": [
       "<div>\n",
       "<style scoped>\n",
       "    .dataframe tbody tr th:only-of-type {\n",
       "        vertical-align: middle;\n",
       "    }\n",
       "\n",
       "    .dataframe tbody tr th {\n",
       "        vertical-align: top;\n",
       "    }\n",
       "\n",
       "    .dataframe thead th {\n",
       "        text-align: right;\n",
       "    }\n",
       "</style>\n",
       "<table border=\"1\" class=\"dataframe\">\n",
       "  <thead>\n",
       "    <tr style=\"text-align: right;\">\n",
       "      <th></th>\n",
       "      <th>id</th>\n",
       "      <th>id_user</th>\n",
       "      <th>card_number</th>\n",
       "    </tr>\n",
       "  </thead>\n",
       "  <tbody>\n",
       "    <tr>\n",
       "      <th>0</th>\n",
       "      <td>1</td>\n",
       "      <td>1986</td>\n",
       "      <td>0</td>\n",
       "    </tr>\n",
       "    <tr>\n",
       "      <th>1</th>\n",
       "      <td>2</td>\n",
       "      <td>1075</td>\n",
       "      <td>3</td>\n",
       "    </tr>\n",
       "    <tr>\n",
       "      <th>2</th>\n",
       "      <td>3</td>\n",
       "      <td>1110</td>\n",
       "      <td>0</td>\n",
       "    </tr>\n",
       "    <tr>\n",
       "      <th>3</th>\n",
       "      <td>4</td>\n",
       "      <td>975</td>\n",
       "      <td>0</td>\n",
       "    </tr>\n",
       "    <tr>\n",
       "      <th>4</th>\n",
       "      <td>5</td>\n",
       "      <td>414</td>\n",
       "      <td>0</td>\n",
       "    </tr>\n",
       "  </tbody>\n",
       "</table>\n",
       "</div>"
      ],
      "text/plain": [
       "   id id_user card_number\n",
       "0   1    1986           0\n",
       "1   2    1075           3\n",
       "2   3    1110           0\n",
       "3   4     975           0\n",
       "4   5     414           0"
      ]
     },
     "execution_count": 49,
     "metadata": {},
     "output_type": "execute_result"
    }
   ],
   "source": [
    "entCard = data[['User','Card']].drop_duplicates().reset_index(drop=True)\n",
    "entCard.columns = ['id_user','card_number']\n",
    "entCard.insert(0,'id',entCard.index+1)\n",
    "entCard.head()"
   ]
  },
  {
   "cell_type": "code",
   "execution_count": 50,
   "metadata": {},
   "outputs": [
    {
     "data": {
      "text/plain": [
       "5019"
      ]
     },
     "execution_count": 50,
     "metadata": {},
     "output_type": "execute_result"
    }
   ],
   "source": [
    "dtypes = [INTEGER]*3\n",
    "entCard.to_sql(name='tbl_card',\n",
    "               index=False,\n",
    "               con=cnx,\n",
    "               if_exists='replace',\n",
    "               chunksize=5000,\n",
    "\n",
    "               dtype=dict(zip(entCard.columns,dtypes)))"
   ]
  },
  {
   "cell_type": "markdown",
   "metadata": {},
   "source": [
    "### Errores "
   ]
  },
  {
   "cell_type": "code",
   "execution_count": 52,
   "metadata": {},
   "outputs": [],
   "source": [
    "data.insert(0,'id',data.index+1)"
   ]
  },
  {
   "cell_type": "code",
   "execution_count": 60,
   "metadata": {},
   "outputs": [
    {
     "data": {
      "text/plain": [
       "2"
      ]
     },
     "execution_count": 60,
     "metadata": {},
     "output_type": "execute_result"
    }
   ],
   "source": []
  },
  {
   "cell_type": "code",
   "execution_count": 61,
   "metadata": {},
   "outputs": [],
   "source": [
    "entError = data[['id','Errors?']].dropna().reset_index(drop=True)\n",
    "maxErrors = entError['Errors?'].map(lambda x:x.split(',')).map(len).max()\n",
    "errors = [f'error_{i+1}' for i in range(maxErrors)]\n",
    "entError[errors] = entError['Errors?'].map(lambda x:x.split(',')).apply(pd.Series)\n",
    "entError.head()\n",
    "entError = entError.melt(id_vars=['id'],value_vars=errors).dropna().reset_index(drop=True).drop('variable',axis=1)\n",
    "entError = entError[['value']].drop_duplicates().reset_index(drop=True) "
   ]
  },
  {
   "cell_type": "code",
   "execution_count": 62,
   "metadata": {},
   "outputs": [
    {
     "data": {
      "text/html": [
       "<div>\n",
       "<style scoped>\n",
       "    .dataframe tbody tr th:only-of-type {\n",
       "        vertical-align: middle;\n",
       "    }\n",
       "\n",
       "    .dataframe tbody tr th {\n",
       "        vertical-align: top;\n",
       "    }\n",
       "\n",
       "    .dataframe thead th {\n",
       "        text-align: right;\n",
       "    }\n",
       "</style>\n",
       "<table border=\"1\" class=\"dataframe\">\n",
       "  <thead>\n",
       "    <tr style=\"text-align: right;\">\n",
       "      <th></th>\n",
       "      <th>id</th>\n",
       "      <th>error_description</th>\n",
       "    </tr>\n",
       "  </thead>\n",
       "  <tbody>\n",
       "    <tr>\n",
       "      <th>0</th>\n",
       "      <td>1</td>\n",
       "      <td>Insufficient Balance</td>\n",
       "    </tr>\n",
       "    <tr>\n",
       "      <th>1</th>\n",
       "      <td>2</td>\n",
       "      <td>Technical Glitch</td>\n",
       "    </tr>\n",
       "    <tr>\n",
       "      <th>2</th>\n",
       "      <td>3</td>\n",
       "      <td>Bad PIN</td>\n",
       "    </tr>\n",
       "    <tr>\n",
       "      <th>3</th>\n",
       "      <td>4</td>\n",
       "      <td>Bad Expiration</td>\n",
       "    </tr>\n",
       "    <tr>\n",
       "      <th>4</th>\n",
       "      <td>5</td>\n",
       "      <td>Bad Card Number</td>\n",
       "    </tr>\n",
       "  </tbody>\n",
       "</table>\n",
       "</div>"
      ],
      "text/plain": [
       "   id     error_description\n",
       "0   1  Insufficient Balance\n",
       "1   2      Technical Glitch\n",
       "2   3               Bad PIN\n",
       "3   4        Bad Expiration\n",
       "4   5       Bad Card Number"
      ]
     },
     "execution_count": 62,
     "metadata": {},
     "output_type": "execute_result"
    }
   ],
   "source": [
    "entError.columns = ['error_description']\n",
    "entError.insert(0,'id',entError.index+1)\n",
    "entError.head()"
   ]
  },
  {
   "cell_type": "code",
   "execution_count": 63,
   "metadata": {},
   "outputs": [
    {
     "data": {
      "text/plain": [
       "7"
      ]
     },
     "execution_count": 63,
     "metadata": {},
     "output_type": "execute_result"
    }
   ],
   "source": [
    "dtypes = [INTEGER,VARCHAR(20)]\n",
    "entError.to_sql(name='tbl_error',\n",
    "               index=False,\n",
    "               con=cnx,\n",
    "               if_exists='replace',\n",
    "               chunksize=5000,\n",
    "\n",
    "               dtype=dict(zip(entError.columns,dtypes)))"
   ]
  },
  {
   "cell_type": "markdown",
   "metadata": {},
   "source": [
    "### Transacción "
   ]
  },
  {
   "cell_type": "code",
   "execution_count": 64,
   "metadata": {},
   "outputs": [
    {
     "data": {
      "text/html": [
       "<div>\n",
       "<style scoped>\n",
       "    .dataframe tbody tr th:only-of-type {\n",
       "        vertical-align: middle;\n",
       "    }\n",
       "\n",
       "    .dataframe tbody tr th {\n",
       "        vertical-align: top;\n",
       "    }\n",
       "\n",
       "    .dataframe thead th {\n",
       "        text-align: right;\n",
       "    }\n",
       "</style>\n",
       "<table border=\"1\" class=\"dataframe\">\n",
       "  <thead>\n",
       "    <tr style=\"text-align: right;\">\n",
       "      <th></th>\n",
       "      <th>id</th>\n",
       "      <th>User</th>\n",
       "      <th>Card</th>\n",
       "      <th>Year</th>\n",
       "      <th>Month</th>\n",
       "      <th>Day</th>\n",
       "      <th>Time</th>\n",
       "      <th>Amount</th>\n",
       "      <th>Use Chip</th>\n",
       "      <th>Merchant Name</th>\n",
       "      <th>Merchant City</th>\n",
       "      <th>Merchant State</th>\n",
       "      <th>Zip</th>\n",
       "      <th>MCC</th>\n",
       "      <th>Errors?</th>\n",
       "      <th>Is Fraud?</th>\n",
       "    </tr>\n",
       "  </thead>\n",
       "  <tbody>\n",
       "    <tr>\n",
       "      <th>0</th>\n",
       "      <td>1</td>\n",
       "      <td>1986</td>\n",
       "      <td>0</td>\n",
       "      <td>2016</td>\n",
       "      <td>11</td>\n",
       "      <td>26</td>\n",
       "      <td>12:49</td>\n",
       "      <td>$39.46</td>\n",
       "      <td>Chip Transaction</td>\n",
       "      <td>2910328604019547969</td>\n",
       "      <td>Knoxville</td>\n",
       "      <td>TN</td>\n",
       "      <td>37918.0</td>\n",
       "      <td>7538</td>\n",
       "      <td>NaN</td>\n",
       "      <td>No</td>\n",
       "    </tr>\n",
       "    <tr>\n",
       "      <th>1</th>\n",
       "      <td>2</td>\n",
       "      <td>1075</td>\n",
       "      <td>3</td>\n",
       "      <td>2008</td>\n",
       "      <td>9</td>\n",
       "      <td>16</td>\n",
       "      <td>15:20</td>\n",
       "      <td>$89.94</td>\n",
       "      <td>Swipe Transaction</td>\n",
       "      <td>4449607287528943014</td>\n",
       "      <td>Clinton</td>\n",
       "      <td>TN</td>\n",
       "      <td>37716.0</td>\n",
       "      <td>5411</td>\n",
       "      <td>NaN</td>\n",
       "      <td>No</td>\n",
       "    </tr>\n",
       "  </tbody>\n",
       "</table>\n",
       "</div>"
      ],
      "text/plain": [
       "   id  User Card  Year Month Day   Time  Amount           Use Chip  \\\n",
       "0   1  1986    0  2016    11  26  12:49  $39.46   Chip Transaction   \n",
       "1   2  1075    3  2008     9  16  15:20  $89.94  Swipe Transaction   \n",
       "\n",
       "         Merchant Name Merchant City Merchant State      Zip   MCC Errors?  \\\n",
       "0  2910328604019547969     Knoxville             TN  37918.0  7538     NaN   \n",
       "1  4449607287528943014       Clinton             TN  37716.0  5411     NaN   \n",
       "\n",
       "  Is Fraud?  \n",
       "0        No  \n",
       "1        No  "
      ]
     },
     "execution_count": 64,
     "metadata": {},
     "output_type": "execute_result"
    }
   ],
   "source": [
    "data.head(2)"
   ]
  },
  {
   "cell_type": "code",
   "execution_count": 65,
   "metadata": {},
   "outputs": [],
   "source": [
    "\n",
    "entTxn = data.copy()\n",
    "entTxn['Amount'] = entTxn['Amount'].map(lambda x: x.replace('$','')).map(float)\n",
    "entTxn['Zip'] =entTxn['Zip'].fillna(99999.0).astype(float).astype(int)\n",
    "entTxn['Zip'] = np.where(entTxn['Zip']==99999,None,entTxn['Zip'].map(lambda x: f'{x:05d}'))\n",
    "entTxn['MCC'] = entTxn['MCC'].fillna(9999).astype(int)\n",
    "entTxn['MCC'] = np.where(entTxn['MCC']==9999,None,entTxn['MCC'])\n",
    "\n",
    "entTxn['Year'] = entTxn['Year'].astype(str)\n",
    "entTxn['Month'] = entTxn['Month'].astype(int).map(lambda x: f'{x:02d}')\n",
    "entTxn['Day'] = entTxn['Month'].astype(int).map(lambda x: f'{x:02d}')\n",
    "\n",
    "entTxn['txn_date'] = entTxn[['Year','Month','Day']].apply('-'.join,axis=1)\n",
    "entTxn['ts'] = entTxn[['txn_date','Time']].apply(' '.join,axis=1)\n",
    "\n",
    "entTxn['ts'] = pd.to_datetime(entTxn['ts'],format='%Y-%m-%d %H:%M')\n",
    "entTxn.drop(['Year','Month','Day','Time','txn_date','Errors?'],axis=1,inplace=True)\n",
    "\n",
    "entTxn.rename(columns={'User':'id_user','Card':'card_number'},inplace=True) \n",
    "entTxn = entTxn.merge(entCard.rename(columns={'id':'id_card'}),how='left',on=['id_user','card_number'])\n",
    "entTxn.drop('card_number',axis=1,inplace=True)\n",
    "\n",
    "entTxn.rename(columns={'Use Chip':'txn_type'},inplace=True) \n",
    "entTxn = entTxn.merge(entTipoTxn.rename(columns={'id':'id_txn_type'}),how='left',on=['txn_type'])\n",
    "entTxn.drop('txn_type',axis=1,inplace=True)\n",
    "\n",
    "entTxn.rename(columns={'Merchant Name':'merchant_name'},inplace=True) \n",
    "entTxn = entTxn.merge(entComercio.rename(columns={'id':'id_comercio'}),how='left',on=['merchant_name'])\n",
    "entTxn.drop('merchant_name',axis=1,inplace=True)\n",
    "\n",
    "entTxn = entTxn.merge(entTerritorio.rename(columns={'id':'id_territory'}),\n",
    "                      how='left',\n",
    "                      left_on=['Merchant State'],right_on=['territory_code'],indicator=True)\n",
    "\n",
    "entTxn['Merchant State'] = np.where(entTxn['_merge']=='left_only',entTxn['Merchant State'],None)\n",
    "entTxn = entTxn.merge(entTerritorio.rename(columns={'id':'id_territory'}),\n",
    "                      how='left',\n",
    "                      left_on=['Merchant State'],right_on=['territory_name'])\n",
    "entTxn['id_territory'] = (np.where(entTxn['id_territory_x'].isnull(),entTxn['id_territory_y'],entTxn['id_territory_x'])).astype(int)\n",
    "entTxn.drop(['id_territory_x','territory_code_x','territory_name_x','_merge','id_territory_y','territory_code_y','territory_name_y'],axis=1,inplace=True)\n",
    "entTxn.drop(['Merchant City','Merchant State'],axis= 1,inplace=True)   \n",
    "\n",
    "entTxn.rename(columns={'Zip':'zip_code'},inplace=True) \n",
    "entTxn = entTxn.merge(entZip.rename(columns={'id':'id_zip'}),\n",
    "                      how='left',\n",
    "                      on='zip_code')\n",
    "entTxn.drop('zip_code',axis=1,inplace=True)\n",
    "\n",
    "entTxn.rename(columns={'MCC':'mcc'},inplace=True) \n",
    "entTxn = entTxn.merge(entMCC.rename(columns={'id':'id_mcc'}).drop('mcc_description',axis=1),\n",
    "                      how='left',\n",
    "                      on='mcc')\n",
    "entTxn.drop('mcc',axis=1,inplace=True)\n",
    "\n",
    "entTxn.rename(columns={'Is Fraud?' : 'is_fraud'},inplace=True)\n",
    "entTxn['is_fraud'] = entTxn['is_fraud']=='Yes'\n",
    "\n",
    "entTxn.rename(columns={'Amount':'amount'},inplace=True)"
   ]
  },
  {
   "cell_type": "code",
   "execution_count": 67,
   "metadata": {},
   "outputs": [
    {
     "data": {
      "text/plain": [
       "100000"
      ]
     },
     "execution_count": 67,
     "metadata": {},
     "output_type": "execute_result"
    }
   ],
   "source": [
    "dtypes = [INTEGER]*2+[FLOAT,BOOLEAN,DATETIME]+[INTEGER]*7\n",
    "entTxn.to_sql(name='tbl_txn',\n",
    "               index=False,\n",
    "               con=cnx,\n",
    "               if_exists='replace',\n",
    "               chunksize=5000,\n",
    "\n",
    "               dtype=dict(zip(entTxn.columns,dtypes)))"
   ]
  },
  {
   "cell_type": "markdown",
   "metadata": {},
   "source": [
    "### Transacción-Error"
   ]
  },
  {
   "cell_type": "code",
   "execution_count": 68,
   "metadata": {},
   "outputs": [],
   "source": [
    "entErrTxn = data[['id','Errors?']].dropna().reset_index(drop=True)\n",
    "errors = [f'error_{i+1}' for i in range(maxErrors)]\n",
    "entErrTxn[errors] = entErrTxn['Errors?'].map(lambda x:x.split(',')).apply(pd.Series)\n",
    "entErrTxn = entErrTxn.melt(id_vars=['id'],value_vars=errors).dropna().reset_index(drop=True).drop('variable',axis=1)\n",
    "entErrTxn = entErrTxn.merge(entError.rename(columns={'id':'id_error'}),left_on='value',right_on='error_description').drop(['value','error_description'],axis=1).rename(columns={'id':'id_txn'})"
   ]
  },
  {
   "cell_type": "code",
   "execution_count": 69,
   "metadata": {},
   "outputs": [
    {
     "data": {
      "text/plain": [
       "1618"
      ]
     },
     "execution_count": 69,
     "metadata": {},
     "output_type": "execute_result"
    }
   ],
   "source": [
    "dtypes = [INTEGER]*2\n",
    "entErrTxn.to_sql(name='tbl_txn_error',\n",
    "               index=False,\n",
    "               con=cnx,\n",
    "               if_exists='replace',\n",
    "               chunksize=5000,\n",
    "\n",
    "               dtype=dict(zip(entErrTxn.columns,dtypes)))"
   ]
  }
 ],
 "metadata": {
  "kernelspec": {
   "display_name": "TSC Actuaría",
   "language": "python",
   "name": "tsc"
  },
  "language_info": {
   "codemirror_mode": {
    "name": "ipython",
    "version": 3
   },
   "file_extension": ".py",
   "mimetype": "text/x-python",
   "name": "python",
   "nbconvert_exporter": "python",
   "pygments_lexer": "ipython3",
   "version": "3.10.12"
  },
  "orig_nbformat": 4
 },
 "nbformat": 4,
 "nbformat_minor": 2
}
