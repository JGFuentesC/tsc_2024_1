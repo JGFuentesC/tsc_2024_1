{
 "cells": [
  {
   "cell_type": "markdown",
   "metadata": {},
   "source": [
    "## Dependencias "
   ]
  },
  {
   "cell_type": "code",
   "execution_count": 1,
   "metadata": {},
   "outputs": [],
   "source": [
    "import numpy as np\n",
    "import pandas as pd \n",
    "\n",
    "from sqlalchemy import create_engine\n",
    "from sqlalchemy.types import VARCHAR,CHAR,INTEGER,BIGINT,BOOLEAN,DATE,DATETIME,FLOAT\n",
    "\n",
    "import json\n",
    "pd.set_option('display.max_columns',None)"
   ]
  },
  {
   "cell_type": "markdown",
   "metadata": {},
   "source": [
    "## Lectura de datos "
   ]
  },
  {
   "cell_type": "code",
   "execution_count": 2,
   "metadata": {},
   "outputs": [],
   "source": [
    "ruta = '/media/jose/090f6b94-de30-4aaf-9f8a-4e18b120d7f6/bd/02.  Para Ingeniería/cc_txn/credit_card_transactions-ibm_v2.csv'"
   ]
  },
  {
   "cell_type": "code",
   "execution_count": 3,
   "metadata": {},
   "outputs": [
    {
     "data": {
      "text/plain": [
       "(24386900, 15)"
      ]
     },
     "execution_count": 3,
     "metadata": {},
     "output_type": "execute_result"
    }
   ],
   "source": [
    "data = pd.read_csv(ruta,dtype=str)\n",
    "data.shape"
   ]
  },
  {
   "cell_type": "code",
   "execution_count": 4,
   "metadata": {},
   "outputs": [
    {
     "data": {
      "text/html": [
       "<div>\n",
       "<style scoped>\n",
       "    .dataframe tbody tr th:only-of-type {\n",
       "        vertical-align: middle;\n",
       "    }\n",
       "\n",
       "    .dataframe tbody tr th {\n",
       "        vertical-align: top;\n",
       "    }\n",
       "\n",
       "    .dataframe thead th {\n",
       "        text-align: right;\n",
       "    }\n",
       "</style>\n",
       "<table border=\"1\" class=\"dataframe\">\n",
       "  <thead>\n",
       "    <tr style=\"text-align: right;\">\n",
       "      <th></th>\n",
       "      <th>User</th>\n",
       "      <th>Card</th>\n",
       "      <th>Year</th>\n",
       "      <th>Month</th>\n",
       "      <th>Day</th>\n",
       "      <th>Time</th>\n",
       "      <th>Amount</th>\n",
       "      <th>Use Chip</th>\n",
       "      <th>Merchant Name</th>\n",
       "      <th>Merchant City</th>\n",
       "      <th>Merchant State</th>\n",
       "      <th>Zip</th>\n",
       "      <th>MCC</th>\n",
       "      <th>Errors?</th>\n",
       "      <th>Is Fraud?</th>\n",
       "    </tr>\n",
       "  </thead>\n",
       "  <tbody>\n",
       "    <tr>\n",
       "      <th>0</th>\n",
       "      <td>0</td>\n",
       "      <td>0</td>\n",
       "      <td>2002</td>\n",
       "      <td>9</td>\n",
       "      <td>1</td>\n",
       "      <td>06:21</td>\n",
       "      <td>$134.09</td>\n",
       "      <td>Swipe Transaction</td>\n",
       "      <td>3527213246127876953</td>\n",
       "      <td>La Verne</td>\n",
       "      <td>CA</td>\n",
       "      <td>91750.0</td>\n",
       "      <td>5300</td>\n",
       "      <td>NaN</td>\n",
       "      <td>No</td>\n",
       "    </tr>\n",
       "    <tr>\n",
       "      <th>1</th>\n",
       "      <td>0</td>\n",
       "      <td>0</td>\n",
       "      <td>2002</td>\n",
       "      <td>9</td>\n",
       "      <td>1</td>\n",
       "      <td>06:42</td>\n",
       "      <td>$38.48</td>\n",
       "      <td>Swipe Transaction</td>\n",
       "      <td>-727612092139916043</td>\n",
       "      <td>Monterey Park</td>\n",
       "      <td>CA</td>\n",
       "      <td>91754.0</td>\n",
       "      <td>5411</td>\n",
       "      <td>NaN</td>\n",
       "      <td>No</td>\n",
       "    </tr>\n",
       "  </tbody>\n",
       "</table>\n",
       "</div>"
      ],
      "text/plain": [
       "  User Card  Year Month Day   Time   Amount           Use Chip  \\\n",
       "0    0    0  2002     9   1  06:21  $134.09  Swipe Transaction   \n",
       "1    0    0  2002     9   1  06:42   $38.48  Swipe Transaction   \n",
       "\n",
       "         Merchant Name  Merchant City Merchant State      Zip   MCC Errors?  \\\n",
       "0  3527213246127876953       La Verne             CA  91750.0  5300     NaN   \n",
       "1  -727612092139916043  Monterey Park             CA  91754.0  5411     NaN   \n",
       "\n",
       "  Is Fraud?  \n",
       "0        No  \n",
       "1        No  "
      ]
     },
     "execution_count": 4,
     "metadata": {},
     "output_type": "execute_result"
    }
   ],
   "source": [
    "data.head(2)"
   ]
  },
  {
   "cell_type": "markdown",
   "metadata": {},
   "source": [
    "## Conexión a BD"
   ]
  },
  {
   "cell_type": "code",
   "execution_count": 5,
   "metadata": {},
   "outputs": [],
   "source": [
    "creds = json.load(open('../../creds/mysql.json','r'))"
   ]
  },
  {
   "cell_type": "code",
   "execution_count": 6,
   "metadata": {},
   "outputs": [],
   "source": [
    "cnx = create_engine(f\"mysql+pymysql://{creds['u']}:{creds['p']}@{creds['h']}/{creds['d']}\").connect()"
   ]
  },
  {
   "cell_type": "markdown",
   "metadata": {},
   "source": [
    "## Entidades"
   ]
  },
  {
   "cell_type": "markdown",
   "metadata": {},
   "source": [
    "### Comercio"
   ]
  },
  {
   "cell_type": "code",
   "execution_count": 21,
   "metadata": {},
   "outputs": [
    {
     "data": {
      "text/html": [
       "<div>\n",
       "<style scoped>\n",
       "    .dataframe tbody tr th:only-of-type {\n",
       "        vertical-align: middle;\n",
       "    }\n",
       "\n",
       "    .dataframe tbody tr th {\n",
       "        vertical-align: top;\n",
       "    }\n",
       "\n",
       "    .dataframe thead th {\n",
       "        text-align: right;\n",
       "    }\n",
       "</style>\n",
       "<table border=\"1\" class=\"dataframe\">\n",
       "  <thead>\n",
       "    <tr style=\"text-align: right;\">\n",
       "      <th></th>\n",
       "      <th>id</th>\n",
       "      <th>merchant_name</th>\n",
       "    </tr>\n",
       "  </thead>\n",
       "  <tbody>\n",
       "    <tr>\n",
       "      <th>0</th>\n",
       "      <td>1</td>\n",
       "      <td>3527213246127876953</td>\n",
       "    </tr>\n",
       "    <tr>\n",
       "      <th>1</th>\n",
       "      <td>2</td>\n",
       "      <td>-727612092139916043</td>\n",
       "    </tr>\n",
       "    <tr>\n",
       "      <th>2</th>\n",
       "      <td>3</td>\n",
       "      <td>3414527459579106770</td>\n",
       "    </tr>\n",
       "    <tr>\n",
       "      <th>3</th>\n",
       "      <td>4</td>\n",
       "      <td>5817218446178736267</td>\n",
       "    </tr>\n",
       "    <tr>\n",
       "      <th>4</th>\n",
       "      <td>5</td>\n",
       "      <td>-7146670748125200898</td>\n",
       "    </tr>\n",
       "  </tbody>\n",
       "</table>\n",
       "</div>"
      ],
      "text/plain": [
       "   id         merchant_name\n",
       "0   1   3527213246127876953\n",
       "1   2   -727612092139916043\n",
       "2   3   3414527459579106770\n",
       "3   4   5817218446178736267\n",
       "4   5  -7146670748125200898"
      ]
     },
     "execution_count": 21,
     "metadata": {},
     "output_type": "execute_result"
    }
   ],
   "source": [
    "entComercio = data[['Merchant Name']].drop_duplicates().reset_index(drop=True)\n",
    "entComercio.insert(0,'id',entComercio.index+1)\n",
    "entComercio.columns = ['id','merchant_name']\n",
    "entComercio['merchant_name'] = entComercio['merchant_name'].map(str)\n",
    "entComercio.head()"
   ]
  },
  {
   "cell_type": "code",
   "execution_count": 22,
   "metadata": {},
   "outputs": [
    {
     "data": {
      "text/plain": [
       "20"
      ]
     },
     "execution_count": 22,
     "metadata": {},
     "output_type": "execute_result"
    }
   ],
   "source": [
    "entComercio['merchant_name'].map(len).max()"
   ]
  },
  {
   "cell_type": "code",
   "execution_count": 23,
   "metadata": {},
   "outputs": [
    {
     "data": {
      "text/plain": [
       "100343"
      ]
     },
     "execution_count": 23,
     "metadata": {},
     "output_type": "execute_result"
    }
   ],
   "source": [
    "dtypes = [INTEGER,VARCHAR(20)]\n",
    "entComercio.to_sql(name='tbl_merchant',\n",
    "               index=False,\n",
    "               con=cnx,\n",
    "               if_exists='replace',\n",
    "               chunksize=5000,\n",
    "               dtype=dict(zip(entComercio.columns,dtypes)))"
   ]
  },
  {
   "cell_type": "markdown",
   "metadata": {},
   "source": [
    "### Territorio"
   ]
  },
  {
   "cell_type": "code",
   "execution_count": 45,
   "metadata": {},
   "outputs": [],
   "source": [
    "entTerritorio = pd.read_clipboard()"
   ]
  },
  {
   "cell_type": "code",
   "execution_count": 59,
   "metadata": {},
   "outputs": [
    {
     "data": {
      "text/html": [
       "<div>\n",
       "<style scoped>\n",
       "    .dataframe tbody tr th:only-of-type {\n",
       "        vertical-align: middle;\n",
       "    }\n",
       "\n",
       "    .dataframe tbody tr th {\n",
       "        vertical-align: top;\n",
       "    }\n",
       "\n",
       "    .dataframe thead th {\n",
       "        text-align: right;\n",
       "    }\n",
       "</style>\n",
       "<table border=\"1\" class=\"dataframe\">\n",
       "  <thead>\n",
       "    <tr style=\"text-align: right;\">\n",
       "      <th></th>\n",
       "      <th>id</th>\n",
       "      <th>territory_code</th>\n",
       "      <th>territory_name</th>\n",
       "    </tr>\n",
       "  </thead>\n",
       "  <tbody>\n",
       "    <tr>\n",
       "      <th>0</th>\n",
       "      <td>1</td>\n",
       "      <td>CA</td>\n",
       "      <td>California</td>\n",
       "    </tr>\n",
       "    <tr>\n",
       "      <th>1</th>\n",
       "      <td>2</td>\n",
       "      <td>TX</td>\n",
       "      <td>Texas</td>\n",
       "    </tr>\n",
       "    <tr>\n",
       "      <th>2</th>\n",
       "      <td>3</td>\n",
       "      <td>FL</td>\n",
       "      <td>Florida</td>\n",
       "    </tr>\n",
       "    <tr>\n",
       "      <th>3</th>\n",
       "      <td>4</td>\n",
       "      <td>NY</td>\n",
       "      <td>New York</td>\n",
       "    </tr>\n",
       "    <tr>\n",
       "      <th>4</th>\n",
       "      <td>5</td>\n",
       "      <td>OH</td>\n",
       "      <td>Ohio</td>\n",
       "    </tr>\n",
       "  </tbody>\n",
       "</table>\n",
       "</div>"
      ],
      "text/plain": [
       "   id territory_code territory_name\n",
       "0   1             CA     California\n",
       "1   2             TX          Texas\n",
       "2   3             FL        Florida\n",
       "3   4             NY       New York\n",
       "4   5             OH           Ohio"
      ]
     },
     "execution_count": 59,
     "metadata": {},
     "output_type": "execute_result"
    }
   ],
   "source": [
    "entTerritorio.head()"
   ]
  },
  {
   "cell_type": "code",
   "execution_count": 46,
   "metadata": {},
   "outputs": [
    {
     "data": {
      "text/plain": [
       "224"
      ]
     },
     "execution_count": 46,
     "metadata": {},
     "output_type": "execute_result"
    }
   ],
   "source": [
    "dtypes = [INTEGER,VARCHAR(3),VARCHAR(32)]\n",
    "entTerritorio.to_sql(name='tbl_territory',\n",
    "               index=False,\n",
    "               con=cnx,\n",
    "               if_exists='replace',\n",
    "               chunksize=5000,\n",
    "               dtype=dict(zip(entTerritorio.columns,dtypes)))"
   ]
  },
  {
   "cell_type": "markdown",
   "metadata": {},
   "source": [
    "### Ciudad"
   ]
  },
  {
   "cell_type": "code",
   "execution_count": 52,
   "metadata": {},
   "outputs": [],
   "source": [
    "data['Merchant State'] = np.where(data['Merchant City']=='ONLINE','Online',data['Merchant State'])"
   ]
  },
  {
   "cell_type": "code",
   "execution_count": 53,
   "metadata": {},
   "outputs": [],
   "source": [
    "entCiudad = data[['Merchant City','Merchant State']].drop_duplicates()"
   ]
  },
  {
   "cell_type": "code",
   "execution_count": 54,
   "metadata": {},
   "outputs": [],
   "source": [
    "entCiudad.columns = ['territory_city','territory_name']"
   ]
  },
  {
   "cell_type": "code",
   "execution_count": 102,
   "metadata": {},
   "outputs": [
    {
     "data": {
      "text/html": [
       "<div>\n",
       "<style scoped>\n",
       "    .dataframe tbody tr th:only-of-type {\n",
       "        vertical-align: middle;\n",
       "    }\n",
       "\n",
       "    .dataframe tbody tr th {\n",
       "        vertical-align: top;\n",
       "    }\n",
       "\n",
       "    .dataframe thead th {\n",
       "        text-align: right;\n",
       "    }\n",
       "</style>\n",
       "<table border=\"1\" class=\"dataframe\">\n",
       "  <thead>\n",
       "    <tr style=\"text-align: right;\">\n",
       "      <th></th>\n",
       "      <th>territory_city</th>\n",
       "      <th>territory_name_x</th>\n",
       "      <th>id_x</th>\n",
       "      <th>territory_code_x</th>\n",
       "      <th>id_y</th>\n",
       "      <th>territory_code_y</th>\n",
       "      <th>territory_name_y</th>\n",
       "    </tr>\n",
       "  </thead>\n",
       "  <tbody>\n",
       "    <tr>\n",
       "      <th>20324</th>\n",
       "      <td>Loysville</td>\n",
       "      <td>PA</td>\n",
       "      <td>NaN</td>\n",
       "      <td>NaN</td>\n",
       "      <td>7.0</td>\n",
       "      <td>PA</td>\n",
       "      <td>Pennsylvania</td>\n",
       "    </tr>\n",
       "    <tr>\n",
       "      <th>20325</th>\n",
       "      <td>Laurel Bloomery</td>\n",
       "      <td>TN</td>\n",
       "      <td>NaN</td>\n",
       "      <td>NaN</td>\n",
       "      <td>14.0</td>\n",
       "      <td>TN</td>\n",
       "      <td>Tennessee</td>\n",
       "    </tr>\n",
       "    <tr>\n",
       "      <th>20326</th>\n",
       "      <td>Alburgh</td>\n",
       "      <td>VT</td>\n",
       "      <td>NaN</td>\n",
       "      <td>NaN</td>\n",
       "      <td>48.0</td>\n",
       "      <td>VT</td>\n",
       "      <td>Vermont</td>\n",
       "    </tr>\n",
       "    <tr>\n",
       "      <th>20327</th>\n",
       "      <td>Buskirk</td>\n",
       "      <td>NY</td>\n",
       "      <td>NaN</td>\n",
       "      <td>NaN</td>\n",
       "      <td>4.0</td>\n",
       "      <td>NY</td>\n",
       "      <td>New York</td>\n",
       "    </tr>\n",
       "    <tr>\n",
       "      <th>20328</th>\n",
       "      <td>Mooers</td>\n",
       "      <td>NY</td>\n",
       "      <td>NaN</td>\n",
       "      <td>NaN</td>\n",
       "      <td>4.0</td>\n",
       "      <td>NY</td>\n",
       "      <td>New York</td>\n",
       "    </tr>\n",
       "  </tbody>\n",
       "</table>\n",
       "</div>"
      ],
      "text/plain": [
       "        territory_city territory_name_x id_x territory_code_x  id_y  \\\n",
       "20324        Loysville               PA  NaN              NaN   7.0   \n",
       "20325  Laurel Bloomery               TN  NaN              NaN  14.0   \n",
       "20326          Alburgh               VT  NaN              NaN  48.0   \n",
       "20327          Buskirk               NY  NaN              NaN   4.0   \n",
       "20328           Mooers               NY  NaN              NaN   4.0   \n",
       "\n",
       "      territory_code_y territory_name_y  \n",
       "20324               PA     Pennsylvania  \n",
       "20325               TN        Tennessee  \n",
       "20326               VT          Vermont  \n",
       "20327               NY         New York  \n",
       "20328               NY         New York  "
      ]
     },
     "execution_count": 102,
     "metadata": {},
     "output_type": "execute_result"
    }
   ],
   "source": [
    "aux = entCiudad.merge(entTerritorio,how='left',on=['territory_name'])\n",
    "aux['id'] =np.where(aux['id']<52,None,aux['id']) \n",
    "aux = aux.merge(entTerritorio,how='left',\n",
    "                left_on=['territory_name'],right_on=['territory_code'])\n",
    "aux.tail()\n"
   ]
  },
  {
   "cell_type": "code",
   "execution_count": 103,
   "metadata": {},
   "outputs": [],
   "source": [
    "aux['id_territory'] = np.where(aux['id_y'].isnull(),aux['id_x'],aux['id_y'])"
   ]
  },
  {
   "cell_type": "code",
   "execution_count": 104,
   "metadata": {},
   "outputs": [],
   "source": [
    "aux = aux[['id_territory','territory_city']].dropna().reset_index(drop=True)\n",
    "aux.insert(0,'id',aux.index+1)"
   ]
  },
  {
   "cell_type": "code",
   "execution_count": 105,
   "metadata": {},
   "outputs": [
    {
     "data": {
      "text/plain": [
       "26"
      ]
     },
     "execution_count": 105,
     "metadata": {},
     "output_type": "execute_result"
    }
   ],
   "source": [
    "aux['territory_city'].map(len).max()"
   ]
  },
  {
   "cell_type": "code",
   "execution_count": 106,
   "metadata": {},
   "outputs": [
    {
     "data": {
      "text/plain": [
       "20328"
      ]
     },
     "execution_count": 106,
     "metadata": {},
     "output_type": "execute_result"
    }
   ],
   "source": [
    "dtypes = [INTEGER,INTEGER,VARCHAR(26)]\n",
    "aux.to_sql(name='tbl_city',\n",
    "               index=False,\n",
    "               con=cnx,\n",
    "               if_exists='replace',\n",
    "               chunksize=5000,\n",
    "               dtype=dict(zip(aux.columns,dtypes)))"
   ]
  },
  {
   "cell_type": "markdown",
   "metadata": {},
   "source": [
    "### Tipo de Transacción\n"
   ]
  },
  {
   "cell_type": "code",
   "execution_count": 116,
   "metadata": {},
   "outputs": [
    {
     "data": {
      "text/plain": [
       "18"
      ]
     },
     "execution_count": 116,
     "metadata": {},
     "output_type": "execute_result"
    }
   ],
   "source": [
    "entTipoTxn = data[['Use Chip']].drop_duplicates().reset_index(drop=True)\n",
    "entTipoTxn.insert(0,'id',entTipoTxn.index+1)\n",
    "entTipoTxn.columns = ['id','txn_type']\n",
    "entTipoTxn['txn_type'].map(len).max()"
   ]
  },
  {
   "cell_type": "code",
   "execution_count": 118,
   "metadata": {},
   "outputs": [
    {
     "data": {
      "text/plain": [
       "3"
      ]
     },
     "execution_count": 118,
     "metadata": {},
     "output_type": "execute_result"
    }
   ],
   "source": [
    "dtypes = [INTEGER,VARCHAR(18)]\n",
    "entTipoTxn.to_sql(name='tbl_txn_type',\n",
    "               index=False,\n",
    "               con=cnx,\n",
    "               if_exists='replace',\n",
    "               chunksize=5000,\n",
    "\n",
    "               dtype=dict(zip(entTipoTxn.columns,dtypes)))"
   ]
  },
  {
   "cell_type": "markdown",
   "metadata": {},
   "source": [
    "### Código Postal"
   ]
  },
  {
   "cell_type": "code",
   "execution_count": 128,
   "metadata": {},
   "outputs": [],
   "source": [
    "entZip = data[['Merchant State','Zip']].drop_duplicates().dropna().reset_index(drop=True)"
   ]
  },
  {
   "cell_type": "code",
   "execution_count": 133,
   "metadata": {},
   "outputs": [],
   "source": [
    "pd.Series(sorted(entZip['Merchant State'].unique())).to_clipboard(index=False)"
   ]
  },
  {
   "cell_type": "code",
   "execution_count": 134,
   "metadata": {},
   "outputs": [
    {
     "data": {
      "text/html": [
       "<div>\n",
       "<style scoped>\n",
       "    .dataframe tbody tr th:only-of-type {\n",
       "        vertical-align: middle;\n",
       "    }\n",
       "\n",
       "    .dataframe tbody tr th {\n",
       "        vertical-align: top;\n",
       "    }\n",
       "\n",
       "    .dataframe thead th {\n",
       "        text-align: right;\n",
       "    }\n",
       "</style>\n",
       "<table border=\"1\" class=\"dataframe\">\n",
       "  <thead>\n",
       "    <tr style=\"text-align: right;\">\n",
       "      <th></th>\n",
       "      <th>User</th>\n",
       "      <th>Card</th>\n",
       "      <th>Year</th>\n",
       "      <th>Month</th>\n",
       "      <th>Day</th>\n",
       "      <th>Time</th>\n",
       "      <th>Amount</th>\n",
       "      <th>Use Chip</th>\n",
       "      <th>Merchant Name</th>\n",
       "      <th>Merchant City</th>\n",
       "      <th>Merchant State</th>\n",
       "      <th>Zip</th>\n",
       "      <th>MCC</th>\n",
       "      <th>Errors?</th>\n",
       "      <th>Is Fraud?</th>\n",
       "    </tr>\n",
       "  </thead>\n",
       "  <tbody>\n",
       "    <tr>\n",
       "      <th>3646455</th>\n",
       "      <td>309</td>\n",
       "      <td>0</td>\n",
       "      <td>2012</td>\n",
       "      <td>3</td>\n",
       "      <td>2</td>\n",
       "      <td>09:53</td>\n",
       "      <td>$2.01</td>\n",
       "      <td>Swipe Transaction</td>\n",
       "      <td>6091778774361517457</td>\n",
       "      <td>Dpo</td>\n",
       "      <td>AA</td>\n",
       "      <td>34004.0</td>\n",
       "      <td>5411</td>\n",
       "      <td>NaN</td>\n",
       "      <td>No</td>\n",
       "    </tr>\n",
       "    <tr>\n",
       "      <th>3651969</th>\n",
       "      <td>309</td>\n",
       "      <td>2</td>\n",
       "      <td>2009</td>\n",
       "      <td>2</td>\n",
       "      <td>22</td>\n",
       "      <td>09:35</td>\n",
       "      <td>$1.29</td>\n",
       "      <td>Swipe Transaction</td>\n",
       "      <td>6091778774361517457</td>\n",
       "      <td>Dpo</td>\n",
       "      <td>AA</td>\n",
       "      <td>34004.0</td>\n",
       "      <td>5411</td>\n",
       "      <td>NaN</td>\n",
       "      <td>No</td>\n",
       "    </tr>\n",
       "    <tr>\n",
       "      <th>3651970</th>\n",
       "      <td>309</td>\n",
       "      <td>2</td>\n",
       "      <td>2009</td>\n",
       "      <td>2</td>\n",
       "      <td>23</td>\n",
       "      <td>13:49</td>\n",
       "      <td>$55.09</td>\n",
       "      <td>Swipe Transaction</td>\n",
       "      <td>6091778774361517457</td>\n",
       "      <td>Dpo</td>\n",
       "      <td>AA</td>\n",
       "      <td>34004.0</td>\n",
       "      <td>5411</td>\n",
       "      <td>NaN</td>\n",
       "      <td>No</td>\n",
       "    </tr>\n",
       "    <tr>\n",
       "      <th>3666064</th>\n",
       "      <td>309</td>\n",
       "      <td>4</td>\n",
       "      <td>2009</td>\n",
       "      <td>2</td>\n",
       "      <td>24</td>\n",
       "      <td>09:44</td>\n",
       "      <td>$1.94</td>\n",
       "      <td>Swipe Transaction</td>\n",
       "      <td>6091778774361517457</td>\n",
       "      <td>Dpo</td>\n",
       "      <td>AA</td>\n",
       "      <td>34004.0</td>\n",
       "      <td>5411</td>\n",
       "      <td>NaN</td>\n",
       "      <td>No</td>\n",
       "    </tr>\n",
       "    <tr>\n",
       "      <th>5762448</th>\n",
       "      <td>488</td>\n",
       "      <td>0</td>\n",
       "      <td>1998</td>\n",
       "      <td>11</td>\n",
       "      <td>2</td>\n",
       "      <td>12:54</td>\n",
       "      <td>$12.80</td>\n",
       "      <td>Swipe Transaction</td>\n",
       "      <td>6091778774361517457</td>\n",
       "      <td>Dpo</td>\n",
       "      <td>AA</td>\n",
       "      <td>34004.0</td>\n",
       "      <td>5411</td>\n",
       "      <td>NaN</td>\n",
       "      <td>No</td>\n",
       "    </tr>\n",
       "    <tr>\n",
       "      <th>5762462</th>\n",
       "      <td>488</td>\n",
       "      <td>0</td>\n",
       "      <td>1998</td>\n",
       "      <td>11</td>\n",
       "      <td>5</td>\n",
       "      <td>12:26</td>\n",
       "      <td>$12.38</td>\n",
       "      <td>Swipe Transaction</td>\n",
       "      <td>6091778774361517457</td>\n",
       "      <td>Dpo</td>\n",
       "      <td>AA</td>\n",
       "      <td>34004.0</td>\n",
       "      <td>5411</td>\n",
       "      <td>NaN</td>\n",
       "      <td>No</td>\n",
       "    </tr>\n",
       "    <tr>\n",
       "      <th>16887363</th>\n",
       "      <td>1373</td>\n",
       "      <td>0</td>\n",
       "      <td>2020</td>\n",
       "      <td>2</td>\n",
       "      <td>25</td>\n",
       "      <td>11:34</td>\n",
       "      <td>$10.34</td>\n",
       "      <td>Chip Transaction</td>\n",
       "      <td>6091778774361517457</td>\n",
       "      <td>Dpo</td>\n",
       "      <td>AA</td>\n",
       "      <td>34004.0</td>\n",
       "      <td>5411</td>\n",
       "      <td>NaN</td>\n",
       "      <td>No</td>\n",
       "    </tr>\n",
       "    <tr>\n",
       "      <th>21086474</th>\n",
       "      <td>1722</td>\n",
       "      <td>1</td>\n",
       "      <td>2011</td>\n",
       "      <td>8</td>\n",
       "      <td>10</td>\n",
       "      <td>15:41</td>\n",
       "      <td>$90.27</td>\n",
       "      <td>Swipe Transaction</td>\n",
       "      <td>6091778774361517457</td>\n",
       "      <td>Dpo</td>\n",
       "      <td>AA</td>\n",
       "      <td>34004.0</td>\n",
       "      <td>5411</td>\n",
       "      <td>NaN</td>\n",
       "      <td>No</td>\n",
       "    </tr>\n",
       "    <tr>\n",
       "      <th>21089949</th>\n",
       "      <td>1722</td>\n",
       "      <td>2</td>\n",
       "      <td>2011</td>\n",
       "      <td>8</td>\n",
       "      <td>4</td>\n",
       "      <td>09:57</td>\n",
       "      <td>$11.31</td>\n",
       "      <td>Swipe Transaction</td>\n",
       "      <td>6091778774361517457</td>\n",
       "      <td>Dpo</td>\n",
       "      <td>AA</td>\n",
       "      <td>34004.0</td>\n",
       "      <td>5411</td>\n",
       "      <td>NaN</td>\n",
       "      <td>No</td>\n",
       "    </tr>\n",
       "    <tr>\n",
       "      <th>21090318</th>\n",
       "      <td>1722</td>\n",
       "      <td>2</td>\n",
       "      <td>2012</td>\n",
       "      <td>8</td>\n",
       "      <td>28</td>\n",
       "      <td>10:25</td>\n",
       "      <td>$4.68</td>\n",
       "      <td>Swipe Transaction</td>\n",
       "      <td>6091778774361517457</td>\n",
       "      <td>Dpo</td>\n",
       "      <td>AA</td>\n",
       "      <td>34004.0</td>\n",
       "      <td>5411</td>\n",
       "      <td>NaN</td>\n",
       "      <td>No</td>\n",
       "    </tr>\n",
       "    <tr>\n",
       "      <th>21101474</th>\n",
       "      <td>1722</td>\n",
       "      <td>4</td>\n",
       "      <td>2011</td>\n",
       "      <td>8</td>\n",
       "      <td>9</td>\n",
       "      <td>08:40</td>\n",
       "      <td>$8.24</td>\n",
       "      <td>Swipe Transaction</td>\n",
       "      <td>6091778774361517457</td>\n",
       "      <td>Dpo</td>\n",
       "      <td>AA</td>\n",
       "      <td>34004.0</td>\n",
       "      <td>5411</td>\n",
       "      <td>NaN</td>\n",
       "      <td>No</td>\n",
       "    </tr>\n",
       "    <tr>\n",
       "      <th>21101475</th>\n",
       "      <td>1722</td>\n",
       "      <td>4</td>\n",
       "      <td>2011</td>\n",
       "      <td>8</td>\n",
       "      <td>9</td>\n",
       "      <td>09:56</td>\n",
       "      <td>$7.21</td>\n",
       "      <td>Swipe Transaction</td>\n",
       "      <td>6091778774361517457</td>\n",
       "      <td>Dpo</td>\n",
       "      <td>AA</td>\n",
       "      <td>34004.0</td>\n",
       "      <td>5411</td>\n",
       "      <td>NaN</td>\n",
       "      <td>No</td>\n",
       "    </tr>\n",
       "  </tbody>\n",
       "</table>\n",
       "</div>"
      ],
      "text/plain": [
       "          User Card  Year Month Day   Time  Amount           Use Chip  \\\n",
       "3646455    309    0  2012     3   2  09:53   $2.01  Swipe Transaction   \n",
       "3651969    309    2  2009     2  22  09:35   $1.29  Swipe Transaction   \n",
       "3651970    309    2  2009     2  23  13:49  $55.09  Swipe Transaction   \n",
       "3666064    309    4  2009     2  24  09:44   $1.94  Swipe Transaction   \n",
       "5762448    488    0  1998    11   2  12:54  $12.80  Swipe Transaction   \n",
       "5762462    488    0  1998    11   5  12:26  $12.38  Swipe Transaction   \n",
       "16887363  1373    0  2020     2  25  11:34  $10.34   Chip Transaction   \n",
       "21086474  1722    1  2011     8  10  15:41  $90.27  Swipe Transaction   \n",
       "21089949  1722    2  2011     8   4  09:57  $11.31  Swipe Transaction   \n",
       "21090318  1722    2  2012     8  28  10:25   $4.68  Swipe Transaction   \n",
       "21101474  1722    4  2011     8   9  08:40   $8.24  Swipe Transaction   \n",
       "21101475  1722    4  2011     8   9  09:56   $7.21  Swipe Transaction   \n",
       "\n",
       "                Merchant Name Merchant City Merchant State      Zip   MCC  \\\n",
       "3646455   6091778774361517457           Dpo             AA  34004.0  5411   \n",
       "3651969   6091778774361517457           Dpo             AA  34004.0  5411   \n",
       "3651970   6091778774361517457           Dpo             AA  34004.0  5411   \n",
       "3666064   6091778774361517457           Dpo             AA  34004.0  5411   \n",
       "5762448   6091778774361517457           Dpo             AA  34004.0  5411   \n",
       "5762462   6091778774361517457           Dpo             AA  34004.0  5411   \n",
       "16887363  6091778774361517457           Dpo             AA  34004.0  5411   \n",
       "21086474  6091778774361517457           Dpo             AA  34004.0  5411   \n",
       "21089949  6091778774361517457           Dpo             AA  34004.0  5411   \n",
       "21090318  6091778774361517457           Dpo             AA  34004.0  5411   \n",
       "21101474  6091778774361517457           Dpo             AA  34004.0  5411   \n",
       "21101475  6091778774361517457           Dpo             AA  34004.0  5411   \n",
       "\n",
       "         Errors? Is Fraud?  \n",
       "3646455      NaN        No  \n",
       "3651969      NaN        No  \n",
       "3651970      NaN        No  \n",
       "3666064      NaN        No  \n",
       "5762448      NaN        No  \n",
       "5762462      NaN        No  \n",
       "16887363     NaN        No  \n",
       "21086474     NaN        No  \n",
       "21089949     NaN        No  \n",
       "21090318     NaN        No  \n",
       "21101474     NaN        No  \n",
       "21101475     NaN        No  "
      ]
     },
     "execution_count": 134,
     "metadata": {},
     "output_type": "execute_result"
    }
   ],
   "source": [
    "data[data['Merchant State']=='AA']"
   ]
  },
  {
   "cell_type": "code",
   "execution_count": null,
   "metadata": {},
   "outputs": [],
   "source": []
  }
 ],
 "metadata": {
  "kernelspec": {
   "display_name": "TSC Actuaría",
   "language": "python",
   "name": "tsc"
  },
  "language_info": {
   "codemirror_mode": {
    "name": "ipython",
    "version": 3
   },
   "file_extension": ".py",
   "mimetype": "text/x-python",
   "name": "python",
   "nbconvert_exporter": "python",
   "pygments_lexer": "ipython3",
   "version": "3.10.12"
  },
  "orig_nbformat": 4
 },
 "nbformat": 4,
 "nbformat_minor": 2
}
