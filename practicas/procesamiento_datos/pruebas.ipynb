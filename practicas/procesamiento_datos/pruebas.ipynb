{
 "cells": [
  {
   "cell_type": "markdown",
   "metadata": {},
   "source": [
    "## Dependencias"
   ]
  },
  {
   "cell_type": "code",
   "execution_count": 40,
   "metadata": {},
   "outputs": [],
   "source": [
    "import numpy as np\n",
    "import pandas as pd \n",
    "import os \n",
    "from glob import glob \n",
    "import json\n",
    "from sqlalchemy import create_engine\n",
    "from sqlalchemy.types import BIGINT,VARCHAR,FLOAT,DATE\n",
    "from multiprocessing import Pool\n",
    "\n",
    "import yfinance as yf\n"
   ]
  },
  {
   "cell_type": "markdown",
   "metadata": {},
   "source": [
    "## Auxiliares "
   ]
  },
  {
   "cell_type": "code",
   "execution_count": 5,
   "metadata": {},
   "outputs": [],
   "source": [
    "def make_pool(func, params, threads):\n",
    "    \"\"\"\n",
    "    Ejecuta de forma simultánea múltiples llamadas a una función\n",
    "    :param func: function, objeto función a paralelizar\n",
    "    :param params: iterable, parámetros de evaluación paralela\n",
    "    :param threads: int, número de hilos de multiprocesamiento\n",
    "    :return: list, resultado de la ejecución paralela agrupada en una lista\n",
    "    \"\"\"\n",
    "    pool = Pool(threads)\n",
    "    data = pool.starmap(func, params)\n",
    "    pool.close()\n",
    "    pool.join()\n",
    "    del pool\n",
    "    return [x for x in data]\n"
   ]
  },
  {
   "cell_type": "markdown",
   "metadata": {},
   "source": [
    "## Datos"
   ]
  },
  {
   "cell_type": "code",
   "execution_count": 26,
   "metadata": {},
   "outputs": [
    {
     "data": {
      "text/plain": [
       "Sector\n",
       "Information Technology    0.168317\n",
       "Financials                0.148515\n",
       "Health Care               0.138614\n",
       "Industrials               0.118812\n",
       "Consumer Discretionary    0.108911\n",
       "Consumer Staples          0.108911\n",
       "Communication Services    0.099010\n",
       "Utilities                 0.039604\n",
       "Energy                    0.029703\n",
       "Materials                 0.019802\n",
       "Real Estate               0.019802\n",
       "Name: proportion, dtype: float64"
      ]
     },
     "execution_count": 26,
     "metadata": {},
     "output_type": "execute_result"
    }
   ],
   "source": [
    "snp = pd.read_parquet('s&p100.parquet')\n",
    "snp.shape\n",
    "snp.value_counts('Sector',normalize=True)"
   ]
  },
  {
   "cell_type": "code",
   "execution_count": 43,
   "metadata": {},
   "outputs": [],
   "source": [
    "def downloadStock(stock:str)->pd.DataFrame:\n",
    "    \"\"\" Descarga los datos de una acción de Yahoo Finance\n",
    "\n",
    "    Args:\n",
    "        stock (str): Ticker de la acción\n",
    "\n",
    "    Returns:\n",
    "        pd.DataFrame: DataFrame con los datos de la acción\n",
    "    \"\"\"    \n",
    "    df = yf.download(stock, period=\"1y\")\n",
    "    df.reset_index(inplace=True)\n",
    "    df.insert(0,'stock',stock)\n",
    "    df['Date'] = pd.to_datetime(df['Date'],format='%Y-%m-%d').dt.date\n",
    "    df.columns = ['stock','date','open','high','low','close','adj_close','volume']\n",
    "    df.drop('adj_close',axis=1,inplace=True)\n",
    "    for c in df.columns:\n",
    "        if c not in ['stock','date']:\n",
    "            df[c] = pd.to_numeric(df[c],errors='coerce')\n",
    "    return df"
   ]
  },
  {
   "cell_type": "code",
   "execution_count": 51,
   "metadata": {},
   "outputs": [],
   "source": [
    "def cargarDatos(stock:str):\n",
    "    try:\n",
    "        print(f\"Cargando acción {stock}...\")\n",
    "        creds = json.load(open('../../creds/mysql.json','r'))\n",
    "        cnx = create_engine(f'mysql+pymysql://{creds[\"u\"]}:{creds[\"p\"]}@{creds[\"h\"]}/{creds[\"d\"]}').connect()\n",
    "\n",
    "        data = downloadStock(stock)\n",
    "        data = data.merge(snp,left_on='stock',right_on='Symbol',how='left').drop('Symbol',axis=1)\n",
    "        data.to_sql('stocks',\n",
    "                    cnx,\n",
    "                    if_exists='append',\n",
    "                    index=False,\n",
    "                    dtype=dict(zip(data.columns,\n",
    "                    [VARCHAR(5),DATE]+[FLOAT]*4+[BIGINT]+[VARCHAR(50)]*2))\n",
    "            )\n",
    "        cnx.close()\n",
    "        return True\n",
    "    except Exception as e:\n",
    "        print(e)\n",
    "        return False"
   ]
  },
  {
   "cell_type": "code",
   "execution_count": 55,
   "metadata": {},
   "outputs": [
    {
     "name": "stdout",
     "output_type": "stream",
     "text": [
      "Cargando acción ADBE...Cargando acción ABT...Cargando acción ABBV...Cargando acción ACN...Cargando acción AMGN...Cargando acción AMT...Cargando acción AVGO...\n",
      "Cargando acción AMZN...Cargando acción AXP...Cargando acción AAPL...\n",
      "\n",
      "Cargando acción BA...\n",
      "Cargando acción BAC...\n",
      "\n",
      "\n",
      "Cargando acción BK...\n",
      "\n",
      "Cargando acción BMY...\n",
      "\n",
      "\n",
      "Cargando acción BKNG...Cargando acción BLK...Cargando acción CAT...Cargando acción C...Cargando acción CL...\n",
      "Cargando acción BRK.B...\n",
      "\n",
      "\n",
      "Cargando acción CMCSA...Cargando acción COST...Cargando acción COP...Cargando acción COF...Cargando acción CHTR...\n",
      "Cargando acción CVS...\n",
      "Cargando acción CVX...Cargando acción CSCO...\n",
      "\n",
      "Cargando acción CRM...\n",
      "\n",
      "\n",
      "\n",
      "Cargando acción DIS...Cargando acción DOW...\n",
      "Cargando acción DHR...\n",
      "Cargando acción DUK...Cargando acción EXC...\n",
      "Cargando acción FDX...Cargando acción GD...Cargando acción EMR...\n",
      "Cargando acción F...\n",
      "\n",
      "\n",
      "\n",
      "\n",
      "\n",
      "Cargando acción GM...Cargando acción GILD...\n",
      "Cargando acción GE...\n",
      "Cargando acción GOOG...Cargando acción HD...Cargando acción GS...Cargando acción IBM...Cargando acción HON...\n",
      "\n",
      "Cargando acción GOOGL...\n",
      "Cargando acción INTC...\n",
      "\n",
      "\n",
      "\n",
      "\n",
      "\n",
      "\n",
      "\n",
      "\n",
      "Cargando acción AIG...\n",
      "Cargando acción AMD...\n",
      "[*********************100%%**********************]  1 of 1 completed\n",
      "[*********************100%%**********************]  1 of 1 completed\n",
      "Cargando acción JNJ...\n",
      "[*********************100%%**********************]  1 of 1 completed\n",
      "[*********************100%%**********************]  1 of 1 completed\n",
      "[*********************100%%**********************]  1 of 1 completed\n",
      "[*********************100%%**********************]  1 of 1 completed\n",
      "\n",
      "[*********************100%%**********************]  1 of 1 completed\n",
      "[*********************100%%**********************]  1 of 1 completed\n",
      "[*********************100%%**********************]  1 of 1 completed\n",
      "[*********************100%%**********************]  1 of 1 completed\n",
      "\n",
      "[*********************100%%**********************]  1 of 1 completed\n",
      "Cargando acción JPM...\n",
      "[*********************100%%**********************]  1 of 1 completed\n",
      "[*********************100%%**********************]  1 of 1 completed\n",
      "[*********************100%%**********************]  1 of 1 completed\n",
      "[*********************100%%**********************]  1 of 1 completed\n",
      "[*********************100%%**********************]  1 of 1 completed\n",
      "[*********************100%%**********************]  1 of 1 completed\n",
      "[*********************100%%**********************]  1 of 1 completed\n",
      "[*********************100%%**********************]  1 of 1 completed\n",
      "\n"
     ]
    },
    {
     "name": "stderr",
     "output_type": "stream",
     "text": [
      "\n",
      "1 Failed download:\n",
      "['BRK.B']: Exception('%ticker%: No data found, symbol may be delisted')\n"
     ]
    },
    {
     "name": "stdout",
     "output_type": "stream",
     "text": [
      "[*********************100%%**********************]  1 of 1 completed\n",
      "[*********************100%%**********************]  1 of 1 completed\n",
      "\n",
      "\n",
      "[*********************100%%**********************]  1 of 1 completed\n",
      "[*********************100%%**********************]  1 of 1 completed\n",
      "[*********************100%%**********************]  1 of 1 completed\n",
      "\n",
      "[*********************100%%**********************]  1 of 1 completed\n",
      "[*********************100%%**********************]  1 of 1 completed\n",
      "\n",
      "[*********************100%%**********************]  1 of 1 completed\n",
      "\n",
      "[*********************100%%**********************]  1 of 1 completed\n",
      "\n",
      "\n",
      "[*********************100%%**********************]  1 of 1 completed\n",
      "[*********************100%%**********************]  1 of 1 completed\n",
      "\n",
      "Cargando acción KO...\n",
      "Cargando acción LIN...\n",
      "Cargando acción LLY...\n",
      "[*********************100%%**********************]  1 of 1 completed\n",
      "[*********************100%%**********************]  1 of 1 completed\n",
      "[*********************100%%**********************]  1 of 1 completed\n",
      "[*********************100%%**********************]  1 of 1 completed\n",
      "[*********************100%%**********************]  1 of 1 completed\n",
      "Cargando acción LMT...\n",
      "Cargando acción LOW...\n",
      "Cargando acción MA...Cargando acción MCD...\n",
      "\n",
      "[*********************100%%**********************]  1 of 1 completed\n",
      "Cargando acción MDLZ...\n",
      "Cargando acción MDT...\n",
      "Cargando acción MET...Cargando acción MMM...Cargando acción META...Cargando acción MO...Cargando acción MRK...\n",
      "\n",
      "\n",
      "\n",
      "\n",
      "Cargando acción MS...\n",
      "Cargando acción MSFT...\n",
      "Cargando acción NKE...Cargando acción NVDA...Cargando acción NEE...Cargando acción ORCL...Cargando acción NFLX...\n",
      "\n",
      "\n",
      "\n",
      "\n",
      "Cargando acción PEP...\n",
      "Cargando acción PFE...\n",
      "Cargando acción PG...Cargando acción PM...Cargando acción PYPL...\n",
      "\n",
      "\n",
      "Cargando acción QCOM...Cargando acción RTX...Cargando acción SCHW...Cargando acción SBUX...\n",
      "\n",
      "\n",
      "\n",
      "Cargando acción SO...\n",
      "Cargando acción SPG...Cargando acción T...\n",
      "\n",
      "Cargando acción TMO...Cargando acción TGT...Cargando acción TMUS...\n",
      "Cargando acción TSLA...\n",
      "\n",
      "\n",
      "Cargando acción TXN...\n",
      "Cargando acción UNH...\n",
      "Cargando acción UNP...\n",
      "Cargando acción UPS...Cargando acción V...Cargando acción USB...\n",
      "\n",
      "\n",
      "[*********************100%%**********************]  1 of 1 completed\n",
      "[*********************100%%**********************]  1 of 1 completed\n",
      "[*********************100%%**********************]  1 of 1 completed\n",
      "[*********************100%%**********************]  1 of 1 completed\n",
      "Cargando acción VZ...\n",
      "[*********************100%%**********************]  1 of 1 completed\n",
      "[*********************100%%**********************]  1 of 1 completedCargando acción WFC...\n",
      "\n",
      "\n",
      "[*********************100%%**********************]  1 of 1 completed\n",
      "\n",
      "\n",
      "\n",
      "[*********************100%%**********************]  1 of 1 completed\n",
      "[*********************100%%**********************]  1 of 1 completed\n",
      "Cargando acción XOM...\n",
      "[*********************100%%**********************]  1 of 1 completed\n",
      "[*********************100%%**********************]  1 of 1 completed\n",
      "[*********************100%%**********************]  1 of 1 completed\n",
      "[*********************100%%**********************]  1 of 1 completed\n",
      "[*********************100%%**********************]  1 of 1 completed\n",
      "[*********************100%%**********************]  1 of 1 completed\n",
      "\n",
      "\n",
      "[*********************100%%**********************]  1 of 1 completed\n",
      "\n",
      "[*********************100%%**********************]  1 of 1 completed\n",
      "[*********************100%%**********************]  1 of 1 completed\n",
      "[*********************100%%**********************]  1 of 1 completed\n",
      "[*********************100%%**********************]  1 of 1 completed\n",
      "[*********************100%%**********************]  1 of 1 completed\n",
      "[*********************100%%**********************]  1 of 1 completed\n",
      "[*********************100%%**********************]  1 of 1 completed\n",
      "[*********************100%%**********************]  1 of 1 completed\n",
      "[*********************100%%**********************]  1 of 1 completed\n",
      "[*********************100%%**********************]  1 of 1 completed\n",
      "[*********************100%%**********************]  1 of 1 completed\n",
      "[*********************100%%**********************]  1 of 1 completed\n",
      "[*********************100%%**********************]  1 of 1 completed\n",
      "[*********************100%%**********************]  1 of 1 completed\n",
      "[*********************100%%**********************]  1 of 1 completed\n",
      "[*********************100%%**********************]  1 of 1 completed\n",
      "[*********************100%%**********************]  1 of 1 completed\n",
      "[*********************100%%**********************]  1 of 1 completed\n",
      "[*********************100%%**********************]  1 of 1 completed\n",
      "[*********************100%%**********************]  1 of 1 completed\n",
      "[*********************100%%**********************]  1 of 1 completed\n",
      "[*********************100%%**********************]  1 of 1 completed\n",
      "[*********************100%%**********************]  1 of 1 completed\n",
      "[*********************100%%**********************]  1 of 1 completed\n",
      "[*********************100%%**********************]  1 of 1 completed\n",
      "[*********************100%%**********************]  1 of 1 completed\n",
      "[*********************100%%**********************]  1 of 1 completed\n",
      "\n",
      "[*********************100%%**********************]  1 of 1 completed\n",
      "[*********************100%%**********************]  1 of 1 completed\n",
      "[*********************100%%**********************]  1 of 1 completed\n",
      "[*********************100%%**********************]  1 of 1 completed\n",
      "[*********************100%%**********************]  1 of 1 completed\n",
      "[*********************100%%**********************]  1 of 1 completed\n"
     ]
    }
   ],
   "source": [
    "results = make_pool(cargarDatos,[(s,) for s in snp.Symbol],50)"
   ]
  },
  {
   "cell_type": "code",
   "execution_count": 56,
   "metadata": {},
   "outputs": [
    {
     "data": {
      "text/plain": [
       "101"
      ]
     },
     "execution_count": 56,
     "metadata": {},
     "output_type": "execute_result"
    }
   ],
   "source": [
    "sum(results)"
   ]
  },
  {
   "cell_type": "code",
   "execution_count": 59,
   "metadata": {},
   "outputs": [
    {
     "name": "stdout",
     "output_type": "stream",
     "text": [
      "[*********************100%%**********************]  1 of 1 completed\n",
      "[*********************100%%**********************]  1 of 1 completed\n",
      "[*********************100%%**********************]  1 of 1 completed\n",
      "[*********************100%%**********************]  1 of 1 completed\n",
      "[*********************100%%**********************]  1 of 1 completed\n",
      "[*********************100%%**********************]  1 of 1 completed\n",
      "[*********************100%%**********************]  1 of 1 completed\n",
      "[*********************100%%**********************]  1 of 1 completed\n",
      "[*********************100%%**********************]  1 of 1 completed\n",
      "[*********************100%%**********************]  1 of 1 completed\n",
      "[*********************100%%**********************]  1 of 1 completed\n",
      "[*********************100%%**********************]  1 of 1 completed\n",
      "[*********************100%%**********************]  1 of 1 completed\n",
      "[*********************100%%**********************]  1 of 1 completed\n",
      "[*********************100%%**********************]  1 of 1 completed\n",
      "[*********************100%%**********************]  1 of 1 completed\n",
      "[*********************100%%**********************]  1 of 1 completed\n",
      "[*********************100%%**********************]  1 of 1 completed\n",
      "[*********************100%%**********************]  1 of 1 completed"
     ]
    },
    {
     "name": "stderr",
     "output_type": "stream",
     "text": [
      "\n",
      "1 Failed download:\n",
      "['BRK.B']: Exception('%ticker%: No data found, symbol may be delisted')\n"
     ]
    },
    {
     "name": "stdout",
     "output_type": "stream",
     "text": [
      "\n",
      "[*********************100%%**********************]  1 of 1 completed\n",
      "[*********************100%%**********************]  1 of 1 completed\n",
      "[*********************100%%**********************]  1 of 1 completed\n",
      "[*********************100%%**********************]  1 of 1 completed\n",
      "[*********************100%%**********************]  1 of 1 completed\n",
      "[*********************100%%**********************]  1 of 1 completed\n",
      "[*********************100%%**********************]  1 of 1 completed\n",
      "[*********************100%%**********************]  1 of 1 completed\n",
      "[*********************100%%**********************]  1 of 1 completed\n",
      "[*********************100%%**********************]  1 of 1 completed\n",
      "[*********************100%%**********************]  1 of 1 completed\n",
      "[*********************100%%**********************]  1 of 1 completed\n",
      "[*********************100%%**********************]  1 of 1 completed\n",
      "[*********************100%%**********************]  1 of 1 completed\n",
      "[*********************100%%**********************]  1 of 1 completed\n",
      "[*********************100%%**********************]  1 of 1 completed\n",
      "[*********************100%%**********************]  1 of 1 completed\n",
      "[*********************100%%**********************]  1 of 1 completed\n",
      "[*********************100%%**********************]  1 of 1 completed\n",
      "[*********************100%%**********************]  1 of 1 completed\n",
      "[*********************100%%**********************]  1 of 1 completed\n",
      "[*********************100%%**********************]  1 of 1 completed\n",
      "[*********************100%%**********************]  1 of 1 completed\n",
      "[*********************100%%**********************]  1 of 1 completed\n",
      "[*********************100%%**********************]  1 of 1 completed\n",
      "[*********************100%%**********************]  1 of 1 completed\n",
      "[*********************100%%**********************]  1 of 1 completed\n",
      "[*********************100%%**********************]  1 of 1 completed\n",
      "[*********************100%%**********************]  1 of 1 completed\n",
      "[*********************100%%**********************]  1 of 1 completed\n",
      "[*********************100%%**********************]  1 of 1 completed\n",
      "[*********************100%%**********************]  1 of 1 completed\n",
      "[*********************100%%**********************]  1 of 1 completed\n",
      "[*********************100%%**********************]  1 of 1 completed\n",
      "[*********************100%%**********************]  1 of 1 completed\n",
      "[*********************100%%**********************]  1 of 1 completed\n",
      "[*********************100%%**********************]  1 of 1 completed\n",
      "[*********************100%%**********************]  1 of 1 completed\n",
      "[*********************100%%**********************]  1 of 1 completed\n",
      "[*********************100%%**********************]  1 of 1 completed\n",
      "[*********************100%%**********************]  1 of 1 completed\n",
      "[*********************100%%**********************]  1 of 1 completed\n",
      "[*********************100%%**********************]  1 of 1 completed\n",
      "[*********************100%%**********************]  1 of 1 completed\n",
      "[*********************100%%**********************]  1 of 1 completed\n",
      "[*********************100%%**********************]  1 of 1 completed\n",
      "[*********************100%%**********************]  1 of 1 completed\n",
      "[*********************100%%**********************]  1 of 1 completed\n",
      "[*********************100%%**********************]  1 of 1 completed\n",
      "[*********************100%%**********************]  1 of 1 completed\n",
      "[*********************100%%**********************]  1 of 1 completed\n",
      "[*********************100%%**********************]  1 of 1 completed\n",
      "[*********************100%%**********************]  1 of 1 completed\n",
      "[*********************100%%**********************]  1 of 1 completed\n",
      "[*********************100%%**********************]  1 of 1 completed\n",
      "[*********************100%%**********************]  1 of 1 completed\n",
      "[*********************100%%**********************]  1 of 1 completed\n",
      "[*********************100%%**********************]  1 of 1 completed\n",
      "[*********************100%%**********************]  1 of 1 completed\n",
      "[*********************100%%**********************]  1 of 1 completed\n",
      "[*********************100%%**********************]  1 of 1 completed\n",
      "[*********************100%%**********************]  1 of 1 completed\n",
      "[*********************100%%**********************]  1 of 1 completed\n",
      "[*********************100%%**********************]  1 of 1 completed\n",
      "[*********************100%%**********************]  1 of 1 completed\n",
      "[*********************100%%**********************]  1 of 1 completed\n",
      "[*********************100%%**********************]  1 of 1 completed\n",
      "[*********************100%%**********************]  1 of 1 completed\n",
      "[*********************100%%**********************]  1 of 1 completed\n",
      "[*********************100%%**********************]  1 of 1 completed\n",
      "[*********************100%%**********************]  1 of 1 completed\n",
      "[*********************100%%**********************]  1 of 1 completed\n",
      "[*********************100%%**********************]  1 of 1 completed\n",
      "[*********************100%%**********************]  1 of 1 completed\n",
      "[*********************100%%**********************]  1 of 1 completed\n",
      "[*********************100%%**********************]  1 of 1 completed\n",
      "[*********************100%%**********************]  1 of 1 completed\n",
      "[*********************100%%**********************]  1 of 1 completed\n",
      "[*********************100%%**********************]  1 of 1 completed\n",
      "[*********************100%%**********************]  1 of 1 completed\n",
      "[*********************100%%**********************]  1 of 1 completed\n",
      "[*********************100%%**********************]  1 of 1 completed\n"
     ]
    }
   ],
   "source": [
    "df = pd.concat(map(downloadStock,snp.Symbol),ignore_index=True)"
   ]
  },
  {
   "cell_type": "code",
   "execution_count": 60,
   "metadata": {},
   "outputs": [
    {
     "data": {
      "text/plain": [
       "(25100, 7)"
      ]
     },
     "execution_count": 60,
     "metadata": {},
     "output_type": "execute_result"
    }
   ],
   "source": [
    "df.shape"
   ]
  },
  {
   "cell_type": "code",
   "execution_count": 62,
   "metadata": {},
   "outputs": [],
   "source": [
    "df.to_clipboard(index=False)"
   ]
  },
  {
   "cell_type": "code",
   "execution_count": null,
   "metadata": {},
   "outputs": [],
   "source": []
  }
 ],
 "metadata": {
  "kernelspec": {
   "display_name": "TSC Actuaría",
   "language": "python",
   "name": "tsc"
  },
  "language_info": {
   "codemirror_mode": {
    "name": "ipython",
    "version": 3
   },
   "file_extension": ".py",
   "mimetype": "text/x-python",
   "name": "python",
   "nbconvert_exporter": "python",
   "pygments_lexer": "ipython3",
   "version": "3.10.12"
  },
  "orig_nbformat": 4
 },
 "nbformat": 4,
 "nbformat_minor": 2
}
