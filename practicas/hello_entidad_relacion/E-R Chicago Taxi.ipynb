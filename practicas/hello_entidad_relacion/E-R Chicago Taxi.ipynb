{
 "cells": [
  {
   "cell_type": "markdown",
   "metadata": {},
   "source": [
    "## Dependencias "
   ]
  },
  {
   "cell_type": "code",
   "execution_count": 9,
   "metadata": {},
   "outputs": [],
   "source": [
    "import numpy as np\n",
    "import pandas as pd \n",
    "\n",
    "from sqlalchemy import create_engine\n",
    "from sqlalchemy.types import VARCHAR,CHAR,INTEGER,BIGINT,BOOLEAN,DATE,DATETIME,FLOAT\n",
    "\n",
    "import json\n",
    "pd.set_option('display.max_columns',None)"
   ]
  },
  {
   "cell_type": "markdown",
   "metadata": {},
   "source": [
    "## Lectura de datos "
   ]
  },
  {
   "cell_type": "code",
   "execution_count": 2,
   "metadata": {},
   "outputs": [],
   "source": [
    "ruta = '/media/jose/090f6b94-de30-4aaf-9f8a-4e18b120d7f6/bd/02.  Para Ingeniería/chicago/Taxi_Trips.csv'"
   ]
  },
  {
   "cell_type": "code",
   "execution_count": 10,
   "metadata": {},
   "outputs": [
    {
     "data": {
      "text/plain": [
       "(20000000, 23)"
      ]
     },
     "execution_count": 10,
     "metadata": {},
     "output_type": "execute_result"
    }
   ],
   "source": [
    "data = pd.read_csv(ruta,nrows=20000000)\n",
    "data.shape"
   ]
  },
  {
   "cell_type": "code",
   "execution_count": 11,
   "metadata": {},
   "outputs": [
    {
     "data": {
      "text/html": [
       "<div>\n",
       "<style scoped>\n",
       "    .dataframe tbody tr th:only-of-type {\n",
       "        vertical-align: middle;\n",
       "    }\n",
       "\n",
       "    .dataframe tbody tr th {\n",
       "        vertical-align: top;\n",
       "    }\n",
       "\n",
       "    .dataframe thead th {\n",
       "        text-align: right;\n",
       "    }\n",
       "</style>\n",
       "<table border=\"1\" class=\"dataframe\">\n",
       "  <thead>\n",
       "    <tr style=\"text-align: right;\">\n",
       "      <th></th>\n",
       "      <th>Trip ID</th>\n",
       "      <th>Taxi ID</th>\n",
       "      <th>Trip Start Timestamp</th>\n",
       "      <th>Trip End Timestamp</th>\n",
       "      <th>Trip Seconds</th>\n",
       "      <th>Trip Miles</th>\n",
       "      <th>Pickup Census Tract</th>\n",
       "      <th>Dropoff Census Tract</th>\n",
       "      <th>Pickup Community Area</th>\n",
       "      <th>Dropoff Community Area</th>\n",
       "      <th>Fare</th>\n",
       "      <th>Tips</th>\n",
       "      <th>Tolls</th>\n",
       "      <th>Extras</th>\n",
       "      <th>Trip Total</th>\n",
       "      <th>Payment Type</th>\n",
       "      <th>Company</th>\n",
       "      <th>Pickup Centroid Latitude</th>\n",
       "      <th>Pickup Centroid Longitude</th>\n",
       "      <th>Pickup Centroid Location</th>\n",
       "      <th>Dropoff Centroid Latitude</th>\n",
       "      <th>Dropoff Centroid Longitude</th>\n",
       "      <th>Dropoff Centroid  Location</th>\n",
       "    </tr>\n",
       "  </thead>\n",
       "  <tbody>\n",
       "    <tr>\n",
       "      <th>0</th>\n",
       "      <td>1244583476e5bcbb73f25159e73412afb0b450a0</td>\n",
       "      <td>381b18e55254dd5635fefcf1b2a7956671bd47be71a38e...</td>\n",
       "      <td>12/29/2015 09:30:00 AM</td>\n",
       "      <td>12/29/2015 09:45:00 AM</td>\n",
       "      <td>660.0</td>\n",
       "      <td>2.40</td>\n",
       "      <td>NaN</td>\n",
       "      <td>NaN</td>\n",
       "      <td>8.0</td>\n",
       "      <td>7.0</td>\n",
       "      <td>8.85</td>\n",
       "      <td>2.0</td>\n",
       "      <td>0.0</td>\n",
       "      <td>0.0</td>\n",
       "      <td>10.85</td>\n",
       "      <td>Credit Card</td>\n",
       "      <td>NaN</td>\n",
       "      <td>41.899602</td>\n",
       "      <td>-87.633308</td>\n",
       "      <td>POINT (-87.6333080367 41.899602111)</td>\n",
       "      <td>41.922686</td>\n",
       "      <td>-87.649489</td>\n",
       "      <td>POINT (-87.6494887289 41.9226862843)</td>\n",
       "    </tr>\n",
       "    <tr>\n",
       "      <th>1</th>\n",
       "      <td>e91fb843e01ba4e9d69589ce3000b5093d1d3b7f</td>\n",
       "      <td>0d9882e354e702dc4f41ab186abdbda41a960062222672...</td>\n",
       "      <td>01/02/2016 03:00:00 PM</td>\n",
       "      <td>01/02/2016 03:30:00 PM</td>\n",
       "      <td>2400.0</td>\n",
       "      <td>17.42</td>\n",
       "      <td>1.703198e+10</td>\n",
       "      <td>1.703108e+10</td>\n",
       "      <td>76.0</td>\n",
       "      <td>8.0</td>\n",
       "      <td>44.50</td>\n",
       "      <td>0.0</td>\n",
       "      <td>0.0</td>\n",
       "      <td>2.0</td>\n",
       "      <td>46.50</td>\n",
       "      <td>Cash</td>\n",
       "      <td>NaN</td>\n",
       "      <td>41.979071</td>\n",
       "      <td>-87.903040</td>\n",
       "      <td>POINT (-87.9030396611 41.9790708201)</td>\n",
       "      <td>41.897984</td>\n",
       "      <td>-87.641492</td>\n",
       "      <td>POINT (-87.6414915334 41.897983898)</td>\n",
       "    </tr>\n",
       "  </tbody>\n",
       "</table>\n",
       "</div>"
      ],
      "text/plain": [
       "                                    Trip ID  \\\n",
       "0  1244583476e5bcbb73f25159e73412afb0b450a0   \n",
       "1  e91fb843e01ba4e9d69589ce3000b5093d1d3b7f   \n",
       "\n",
       "                                             Taxi ID    Trip Start Timestamp  \\\n",
       "0  381b18e55254dd5635fefcf1b2a7956671bd47be71a38e...  12/29/2015 09:30:00 AM   \n",
       "1  0d9882e354e702dc4f41ab186abdbda41a960062222672...  01/02/2016 03:00:00 PM   \n",
       "\n",
       "       Trip End Timestamp  Trip Seconds  Trip Miles  Pickup Census Tract  \\\n",
       "0  12/29/2015 09:45:00 AM         660.0        2.40                  NaN   \n",
       "1  01/02/2016 03:30:00 PM        2400.0       17.42         1.703198e+10   \n",
       "\n",
       "   Dropoff Census Tract  Pickup Community Area  Dropoff Community Area   Fare  \\\n",
       "0                   NaN                    8.0                     7.0   8.85   \n",
       "1          1.703108e+10                   76.0                     8.0  44.50   \n",
       "\n",
       "   Tips  Tolls  Extras  Trip Total Payment Type Company  \\\n",
       "0   2.0    0.0     0.0       10.85  Credit Card     NaN   \n",
       "1   0.0    0.0     2.0       46.50         Cash     NaN   \n",
       "\n",
       "   Pickup Centroid Latitude  Pickup Centroid Longitude  \\\n",
       "0                 41.899602                 -87.633308   \n",
       "1                 41.979071                 -87.903040   \n",
       "\n",
       "               Pickup Centroid Location  Dropoff Centroid Latitude  \\\n",
       "0   POINT (-87.6333080367 41.899602111)                  41.922686   \n",
       "1  POINT (-87.9030396611 41.9790708201)                  41.897984   \n",
       "\n",
       "   Dropoff Centroid Longitude            Dropoff Centroid  Location  \n",
       "0                  -87.649489  POINT (-87.6494887289 41.9226862843)  \n",
       "1                  -87.641492   POINT (-87.6414915334 41.897983898)  "
      ]
     },
     "execution_count": 11,
     "metadata": {},
     "output_type": "execute_result"
    }
   ],
   "source": [
    "data.head(2)"
   ]
  },
  {
   "cell_type": "markdown",
   "metadata": {},
   "source": [
    "## Conexión a BD"
   ]
  },
  {
   "cell_type": "code",
   "execution_count": 23,
   "metadata": {},
   "outputs": [],
   "source": [
    "creds = json.load(open('../../creds/mysql.json','r'))"
   ]
  },
  {
   "cell_type": "code",
   "execution_count": 25,
   "metadata": {},
   "outputs": [],
   "source": [
    "cnx = create_engine(f\"mysql+pymysql://{creds['u']}:{creds['p']}@{creds['h']}/{creds['d']}\").connect()"
   ]
  },
  {
   "cell_type": "markdown",
   "metadata": {},
   "source": [
    "## Entidades"
   ]
  },
  {
   "cell_type": "markdown",
   "metadata": {},
   "source": [
    "### Taxi"
   ]
  },
  {
   "cell_type": "code",
   "execution_count": 19,
   "metadata": {},
   "outputs": [],
   "source": [
    "entTaxi = data[['Taxi ID']].drop_duplicates().dropna().reset_index(drop=True)"
   ]
  },
  {
   "cell_type": "code",
   "execution_count": 20,
   "metadata": {},
   "outputs": [],
   "source": [
    "entTaxi['id_taxi'] = entTaxi.index+1"
   ]
  },
  {
   "cell_type": "code",
   "execution_count": 21,
   "metadata": {},
   "outputs": [
    {
     "data": {
      "text/html": [
       "<div>\n",
       "<style scoped>\n",
       "    .dataframe tbody tr th:only-of-type {\n",
       "        vertical-align: middle;\n",
       "    }\n",
       "\n",
       "    .dataframe tbody tr th {\n",
       "        vertical-align: top;\n",
       "    }\n",
       "\n",
       "    .dataframe thead th {\n",
       "        text-align: right;\n",
       "    }\n",
       "</style>\n",
       "<table border=\"1\" class=\"dataframe\">\n",
       "  <thead>\n",
       "    <tr style=\"text-align: right;\">\n",
       "      <th></th>\n",
       "      <th>id_taxi</th>\n",
       "      <th>hex_id</th>\n",
       "    </tr>\n",
       "  </thead>\n",
       "  <tbody>\n",
       "    <tr>\n",
       "      <th>0</th>\n",
       "      <td>1</td>\n",
       "      <td>381b18e55254dd5635fefcf1b2a7956671bd47be71a38e...</td>\n",
       "    </tr>\n",
       "    <tr>\n",
       "      <th>1</th>\n",
       "      <td>2</td>\n",
       "      <td>0d9882e354e702dc4f41ab186abdbda41a960062222672...</td>\n",
       "    </tr>\n",
       "    <tr>\n",
       "      <th>2</th>\n",
       "      <td>3</td>\n",
       "      <td>0efcdf71809e8156defa99d541c76837db2ab944a62e41...</td>\n",
       "    </tr>\n",
       "    <tr>\n",
       "      <th>3</th>\n",
       "      <td>4</td>\n",
       "      <td>e1aff5afebc38449dafb6f180ceb9f5dc86cf771aeffec...</td>\n",
       "    </tr>\n",
       "    <tr>\n",
       "      <th>4</th>\n",
       "      <td>5</td>\n",
       "      <td>b7ac477e614f1f222f42c698e3f2841fb020060e629172...</td>\n",
       "    </tr>\n",
       "  </tbody>\n",
       "</table>\n",
       "</div>"
      ],
      "text/plain": [
       "   id_taxi                                             hex_id\n",
       "0        1  381b18e55254dd5635fefcf1b2a7956671bd47be71a38e...\n",
       "1        2  0d9882e354e702dc4f41ab186abdbda41a960062222672...\n",
       "2        3  0efcdf71809e8156defa99d541c76837db2ab944a62e41...\n",
       "3        4  e1aff5afebc38449dafb6f180ceb9f5dc86cf771aeffec...\n",
       "4        5  b7ac477e614f1f222f42c698e3f2841fb020060e629172..."
      ]
     },
     "execution_count": 21,
     "metadata": {},
     "output_type": "execute_result"
    }
   ],
   "source": [
    "entTaxi.columns = ['hex_id','id_taxi']\n",
    "entTaxi = entTaxi[['id_taxi','hex_id']]\n",
    "entTaxi.head()"
   ]
  },
  {
   "cell_type": "code",
   "execution_count": 22,
   "metadata": {},
   "outputs": [
    {
     "data": {
      "text/plain": [
       "128"
      ]
     },
     "execution_count": 22,
     "metadata": {},
     "output_type": "execute_result"
    }
   ],
   "source": [
    "entTaxi['hex_id'].map(len).max()"
   ]
  },
  {
   "cell_type": "code",
   "execution_count": 27,
   "metadata": {},
   "outputs": [
    {
     "data": {
      "text/plain": [
       "5937"
      ]
     },
     "execution_count": 27,
     "metadata": {},
     "output_type": "execute_result"
    }
   ],
   "source": [
    "dtypes = [INTEGER,CHAR(128)]\n",
    "entTaxi.to_sql(name='tbl_taxi',\n",
    "               index=False,\n",
    "               con=cnx,\n",
    "               if_exists='replace',\n",
    "               chunksize=5000,\n",
    "               dtype=dict(zip(entTaxi.columns,dtypes)))"
   ]
  },
  {
   "cell_type": "markdown",
   "metadata": {},
   "source": [
    "### Compañía"
   ]
  },
  {
   "cell_type": "code",
   "execution_count": 28,
   "metadata": {},
   "outputs": [
    {
     "data": {
      "text/plain": [
       "(47, 1)"
      ]
     },
     "execution_count": 28,
     "metadata": {},
     "output_type": "execute_result"
    }
   ],
   "source": [
    "entCompañia = data[['Company']].dropna().drop_duplicates().reset_index(drop=True)\n",
    "entCompañia.shape"
   ]
  },
  {
   "cell_type": "code",
   "execution_count": 30,
   "metadata": {},
   "outputs": [
    {
     "data": {
      "text/html": [
       "<div>\n",
       "<style scoped>\n",
       "    .dataframe tbody tr th:only-of-type {\n",
       "        vertical-align: middle;\n",
       "    }\n",
       "\n",
       "    .dataframe tbody tr th {\n",
       "        vertical-align: top;\n",
       "    }\n",
       "\n",
       "    .dataframe thead th {\n",
       "        text-align: right;\n",
       "    }\n",
       "</style>\n",
       "<table border=\"1\" class=\"dataframe\">\n",
       "  <thead>\n",
       "    <tr style=\"text-align: right;\">\n",
       "      <th></th>\n",
       "      <th>id_company</th>\n",
       "      <th>name</th>\n",
       "    </tr>\n",
       "  </thead>\n",
       "  <tbody>\n",
       "    <tr>\n",
       "      <th>0</th>\n",
       "      <td>1</td>\n",
       "      <td>303 Taxi</td>\n",
       "    </tr>\n",
       "    <tr>\n",
       "      <th>1</th>\n",
       "      <td>2</td>\n",
       "      <td>Globe Taxi</td>\n",
       "    </tr>\n",
       "    <tr>\n",
       "      <th>2</th>\n",
       "      <td>3</td>\n",
       "      <td>Flash Cab</td>\n",
       "    </tr>\n",
       "    <tr>\n",
       "      <th>3</th>\n",
       "      <td>4</td>\n",
       "      <td>Taxi Affiliation Services</td>\n",
       "    </tr>\n",
       "    <tr>\n",
       "      <th>4</th>\n",
       "      <td>5</td>\n",
       "      <td>Taxicab Insurance Agency Llc</td>\n",
       "    </tr>\n",
       "  </tbody>\n",
       "</table>\n",
       "</div>"
      ],
      "text/plain": [
       "   id_company                          name\n",
       "0           1                      303 Taxi\n",
       "1           2                    Globe Taxi\n",
       "2           3                     Flash Cab\n",
       "3           4     Taxi Affiliation Services\n",
       "4           5  Taxicab Insurance Agency Llc"
      ]
     },
     "execution_count": 30,
     "metadata": {},
     "output_type": "execute_result"
    }
   ],
   "source": [
    "entCompañia.insert(0,'id_company',entCompañia.index+1)\n",
    "entCompañia.rename(columns={'Company':'name'},inplace=True)\n",
    "entCompañia.head()"
   ]
  },
  {
   "cell_type": "code",
   "execution_count": 32,
   "metadata": {},
   "outputs": [
    {
     "data": {
      "text/plain": [
       "36"
      ]
     },
     "execution_count": 32,
     "metadata": {},
     "output_type": "execute_result"
    }
   ],
   "source": [
    "entCompañia['name'].map(len).max()"
   ]
  },
  {
   "cell_type": "code",
   "execution_count": 33,
   "metadata": {},
   "outputs": [
    {
     "data": {
      "text/plain": [
       "47"
      ]
     },
     "execution_count": 33,
     "metadata": {},
     "output_type": "execute_result"
    }
   ],
   "source": [
    "dtypes = [INTEGER,VARCHAR(40)]\n",
    "entCompañia.to_sql(name='tbl_company',\n",
    "               index=False,\n",
    "               con=cnx,\n",
    "               if_exists='replace',\n",
    "               chunksize=5000,\n",
    "               dtype=dict(zip(entCompañia.columns,dtypes)))"
   ]
  },
  {
   "cell_type": "markdown",
   "metadata": {},
   "source": [
    "### Medio de Pago"
   ]
  },
  {
   "cell_type": "code",
   "execution_count": 35,
   "metadata": {},
   "outputs": [],
   "source": [
    "entMP = data[['Payment Type']].dropna().drop_duplicates().reset_index(drop=True)\n",
    "entMP.insert(0,'id_pmnt',entMP.index+1)\n",
    "entMP.rename(columns={'Payment Type':'type'},inplace=True)"
   ]
  },
  {
   "cell_type": "code",
   "execution_count": 36,
   "metadata": {},
   "outputs": [
    {
     "data": {
      "text/html": [
       "<div>\n",
       "<style scoped>\n",
       "    .dataframe tbody tr th:only-of-type {\n",
       "        vertical-align: middle;\n",
       "    }\n",
       "\n",
       "    .dataframe tbody tr th {\n",
       "        vertical-align: top;\n",
       "    }\n",
       "\n",
       "    .dataframe thead th {\n",
       "        text-align: right;\n",
       "    }\n",
       "</style>\n",
       "<table border=\"1\" class=\"dataframe\">\n",
       "  <thead>\n",
       "    <tr style=\"text-align: right;\">\n",
       "      <th></th>\n",
       "      <th>id_pmnt</th>\n",
       "      <th>type</th>\n",
       "    </tr>\n",
       "  </thead>\n",
       "  <tbody>\n",
       "    <tr>\n",
       "      <th>0</th>\n",
       "      <td>1</td>\n",
       "      <td>Credit Card</td>\n",
       "    </tr>\n",
       "    <tr>\n",
       "      <th>1</th>\n",
       "      <td>2</td>\n",
       "      <td>Cash</td>\n",
       "    </tr>\n",
       "    <tr>\n",
       "      <th>2</th>\n",
       "      <td>3</td>\n",
       "      <td>Pcard</td>\n",
       "    </tr>\n",
       "    <tr>\n",
       "      <th>3</th>\n",
       "      <td>4</td>\n",
       "      <td>Prcard</td>\n",
       "    </tr>\n",
       "    <tr>\n",
       "      <th>4</th>\n",
       "      <td>5</td>\n",
       "      <td>Mobile</td>\n",
       "    </tr>\n",
       "  </tbody>\n",
       "</table>\n",
       "</div>"
      ],
      "text/plain": [
       "   id_pmnt         type\n",
       "0        1  Credit Card\n",
       "1        2         Cash\n",
       "2        3        Pcard\n",
       "3        4       Prcard\n",
       "4        5       Mobile"
      ]
     },
     "execution_count": 36,
     "metadata": {},
     "output_type": "execute_result"
    }
   ],
   "source": [
    "entMP.head()"
   ]
  },
  {
   "cell_type": "code",
   "execution_count": 37,
   "metadata": {},
   "outputs": [
    {
     "data": {
      "text/plain": [
       "11"
      ]
     },
     "execution_count": 37,
     "metadata": {},
     "output_type": "execute_result"
    }
   ],
   "source": [
    "entMP['type'].map(len).max()"
   ]
  },
  {
   "cell_type": "code",
   "execution_count": 38,
   "metadata": {},
   "outputs": [
    {
     "data": {
      "text/plain": [
       "10"
      ]
     },
     "execution_count": 38,
     "metadata": {},
     "output_type": "execute_result"
    }
   ],
   "source": [
    "dtypes = [INTEGER,VARCHAR(15)]\n",
    "entMP.to_sql(name='tbl_pmnt',\n",
    "               index=False,\n",
    "               con=cnx,\n",
    "               if_exists='replace',\n",
    "               chunksize=5000,\n",
    "               dtype=dict(zip(entMP.columns,dtypes)))"
   ]
  },
  {
   "cell_type": "markdown",
   "metadata": {},
   "source": [
    "### Viaje"
   ]
  },
  {
   "cell_type": "code",
   "execution_count": 52,
   "metadata": {},
   "outputs": [
    {
     "data": {
      "text/plain": [
       "(20000000, 16)"
      ]
     },
     "execution_count": 52,
     "metadata": {},
     "output_type": "execute_result"
    }
   ],
   "source": [
    "entViaje = data[['Trip ID','Taxi ID','Trip Start Timestamp','Trip End Timestamp',\n",
    "                 'Trip Seconds','Trip Miles','Fare','Tips','Tolls','Extras','Company','Payment Type',\n",
    "                 'Pickup Centroid Latitude','Pickup Centroid Longitude','Dropoff Centroid Latitude','Dropoff Centroid Longitude']].copy()\n",
    "entViaje.shape"
   ]
  },
  {
   "cell_type": "code",
   "execution_count": 53,
   "metadata": {},
   "outputs": [],
   "source": [
    "for c in ['Trip Start Timestamp','Trip End Timestamp']:\n",
    "    entViaje[c] = pd.to_datetime(entViaje[c],format='%m/%d/%Y %I:%M:%S %p',errors='coerce')"
   ]
  },
  {
   "cell_type": "code",
   "execution_count": 54,
   "metadata": {},
   "outputs": [],
   "source": [
    "entViaje = entViaje.merge(entTaxi,left_on=['Taxi ID'],right_on=['hex_id'],how='left').drop(['Taxi ID','hex_id'],axis=1)"
   ]
  },
  {
   "cell_type": "code",
   "execution_count": 55,
   "metadata": {},
   "outputs": [],
   "source": [
    "entViaje = entViaje.merge(entCompañia,left_on=['Company'],right_on=['name'],how='left').drop(['Company','name'],axis=1)"
   ]
  },
  {
   "cell_type": "code",
   "execution_count": 57,
   "metadata": {},
   "outputs": [],
   "source": [
    "entViaje = entViaje.merge(entMP,left_on=['Payment Type'],right_on=['type'],how='left').drop(['Payment Type','type'],axis=1)"
   ]
  },
  {
   "cell_type": "code",
   "execution_count": 59,
   "metadata": {},
   "outputs": [],
   "source": [
    "entViaje.columns = ['id_trip','ts_start','ts_end','duration','distance','fare','tips','tolls','extras',\n",
    "                    'pu_lat','pu_lon','do_lat','do_lon','id_taxi','id_company','id_pmnt']"
   ]
  },
  {
   "cell_type": "code",
   "execution_count": 74,
   "metadata": {},
   "outputs": [
    {
     "name": "stdout",
     "output_type": "stream",
     "text": [
      "id_taxi\n",
      "id_company\n",
      "id_pmnt\n"
     ]
    }
   ],
   "source": [
    "for i in ['id_taxi','id_company','id_pmnt']:\n",
    "    print(i)\n",
    "    entViaje[i] =  entViaje[i].fillna(999999).astype(int)"
   ]
  },
  {
   "cell_type": "code",
   "execution_count": 77,
   "metadata": {},
   "outputs": [
    {
     "data": {
      "text/html": [
       "<div>\n",
       "<style scoped>\n",
       "    .dataframe tbody tr th:only-of-type {\n",
       "        vertical-align: middle;\n",
       "    }\n",
       "\n",
       "    .dataframe tbody tr th {\n",
       "        vertical-align: top;\n",
       "    }\n",
       "\n",
       "    .dataframe thead th {\n",
       "        text-align: right;\n",
       "    }\n",
       "</style>\n",
       "<table border=\"1\" class=\"dataframe\">\n",
       "  <thead>\n",
       "    <tr style=\"text-align: right;\">\n",
       "      <th></th>\n",
       "      <th>id_trip</th>\n",
       "      <th>ts_start</th>\n",
       "      <th>ts_end</th>\n",
       "      <th>duration</th>\n",
       "      <th>distance</th>\n",
       "      <th>fare</th>\n",
       "      <th>tips</th>\n",
       "      <th>tolls</th>\n",
       "      <th>extras</th>\n",
       "      <th>pu_lat</th>\n",
       "      <th>pu_lon</th>\n",
       "      <th>do_lat</th>\n",
       "      <th>do_lon</th>\n",
       "      <th>id_taxi</th>\n",
       "      <th>id_company</th>\n",
       "      <th>id_pmnt</th>\n",
       "    </tr>\n",
       "  </thead>\n",
       "  <tbody>\n",
       "    <tr>\n",
       "      <th>0</th>\n",
       "      <td>1244583476e5bcbb73f25159e73412afb0b450a0</td>\n",
       "      <td>2015-12-29 09:30:00</td>\n",
       "      <td>2015-12-29 09:45:00</td>\n",
       "      <td>660.0</td>\n",
       "      <td>2.40</td>\n",
       "      <td>8.85</td>\n",
       "      <td>2.0</td>\n",
       "      <td>0.0</td>\n",
       "      <td>0.0</td>\n",
       "      <td>41.899602</td>\n",
       "      <td>-87.633308</td>\n",
       "      <td>41.922686</td>\n",
       "      <td>-87.649489</td>\n",
       "      <td>1</td>\n",
       "      <td>999999</td>\n",
       "      <td>1</td>\n",
       "    </tr>\n",
       "    <tr>\n",
       "      <th>1</th>\n",
       "      <td>e91fb843e01ba4e9d69589ce3000b5093d1d3b7f</td>\n",
       "      <td>2016-01-02 15:00:00</td>\n",
       "      <td>2016-01-02 15:30:00</td>\n",
       "      <td>2400.0</td>\n",
       "      <td>17.42</td>\n",
       "      <td>44.50</td>\n",
       "      <td>0.0</td>\n",
       "      <td>0.0</td>\n",
       "      <td>2.0</td>\n",
       "      <td>41.979071</td>\n",
       "      <td>-87.903040</td>\n",
       "      <td>41.897984</td>\n",
       "      <td>-87.641492</td>\n",
       "      <td>2</td>\n",
       "      <td>999999</td>\n",
       "      <td>2</td>\n",
       "    </tr>\n",
       "  </tbody>\n",
       "</table>\n",
       "</div>"
      ],
      "text/plain": [
       "                                    id_trip            ts_start  \\\n",
       "0  1244583476e5bcbb73f25159e73412afb0b450a0 2015-12-29 09:30:00   \n",
       "1  e91fb843e01ba4e9d69589ce3000b5093d1d3b7f 2016-01-02 15:00:00   \n",
       "\n",
       "               ts_end  duration  distance   fare  tips  tolls  extras  \\\n",
       "0 2015-12-29 09:45:00     660.0      2.40   8.85   2.0    0.0     0.0   \n",
       "1 2016-01-02 15:30:00    2400.0     17.42  44.50   0.0    0.0     2.0   \n",
       "\n",
       "      pu_lat     pu_lon     do_lat     do_lon  id_taxi  id_company  id_pmnt  \n",
       "0  41.899602 -87.633308  41.922686 -87.649489        1      999999        1  \n",
       "1  41.979071 -87.903040  41.897984 -87.641492        2      999999        2  "
      ]
     },
     "execution_count": 77,
     "metadata": {},
     "output_type": "execute_result"
    }
   ],
   "source": [
    "entViaje.head(2)"
   ]
  },
  {
   "cell_type": "code",
   "execution_count": 78,
   "metadata": {},
   "outputs": [
    {
     "data": {
      "text/plain": [
       "40"
      ]
     },
     "execution_count": 78,
     "metadata": {},
     "output_type": "execute_result"
    }
   ],
   "source": [
    "entViaje['id_trip'].map(len).max()"
   ]
  },
  {
   "cell_type": "code",
   "execution_count": 80,
   "metadata": {},
   "outputs": [
    {
     "data": {
      "text/plain": [
       "20000000"
      ]
     },
     "execution_count": 80,
     "metadata": {},
     "output_type": "execute_result"
    }
   ],
   "source": [
    "dtypes = [CHAR(40)]+[DATETIME]*2 +[FLOAT]*10+[INTEGER]*3\n",
    "entViaje.to_sql(name='tbl_viaje',\n",
    "               index=False,\n",
    "               con=cnx,\n",
    "               if_exists='replace',\n",
    "               chunksize=200000,\n",
    "               dtype=dict(zip(entViaje.columns,dtypes)))"
   ]
  },
  {
   "cell_type": "code",
   "execution_count": null,
   "metadata": {},
   "outputs": [],
   "source": []
  }
 ],
 "metadata": {
  "kernelspec": {
   "display_name": "TSC Actuaría",
   "language": "python",
   "name": "tsc"
  },
  "language_info": {
   "codemirror_mode": {
    "name": "ipython",
    "version": 3
   },
   "file_extension": ".py",
   "mimetype": "text/x-python",
   "name": "python",
   "nbconvert_exporter": "python",
   "pygments_lexer": "ipython3",
   "version": "3.10.12"
  },
  "orig_nbformat": 4
 },
 "nbformat": 4,
 "nbformat_minor": 2
}
